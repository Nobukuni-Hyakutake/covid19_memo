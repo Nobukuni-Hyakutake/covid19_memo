{
  "nbformat": 4,
  "nbformat_minor": 0,
  "metadata": {
    "colab": {
      "name": "covid19_visualization_json.ipynb",
      "provenance": [],
      "collapsed_sections": [],
      "authorship_tag": "ABX9TyP5FfSeam/Sb9qWQdj5ejD/",
      "include_colab_link": true
    },
    "kernelspec": {
      "name": "python3",
      "display_name": "Python 3"
    }
  },
  "cells": [
    {
      "cell_type": "markdown",
      "metadata": {
        "id": "view-in-github",
        "colab_type": "text"
      },
      "source": [
        "<a href=\"https://colab.research.google.com/github/karaage0703/covid19_memo/blob/master/covid19_visualization_json.ipynb\" target=\"_parent\"><img src=\"https://colab.research.google.com/assets/colab-badge.svg\" alt=\"Open In Colab\"/></a>"
      ]
    },
    {
      "cell_type": "markdown",
      "metadata": {
        "id": "kyEcePvJnKQC",
        "colab_type": "text"
      },
      "source": [
        "# 新型コロナウイルスの感染動向を可視化・分析するためのノートブック\n",
        "\n",
        "COVID19感染動向データをGoogle Colabで可視化・分析するために、個人的に作成しているものです。\n",
        "\n",
        "内容の正確性を保証するものではありませんので、ご注意下さい。\n",
        "\n",
        "以下リポジトリでPR受付中です。\n",
        "\n",
        "https://github.com/karaage0703/covid19_memo\n",
        "\n",
        "# 変更履歴\n",
        "- 2020/04/01 新規作成"
      ]
    },
    {
      "cell_type": "markdown",
      "metadata": {
        "id": "s7hzVmGPSjXw",
        "colab_type": "text"
      },
      "source": [
        "## 東京のデータの分析\n",
        "### 東京のデータダウンロードと読み込み\n",
        "東京都の感染動向サイトのjsonデータをダウンロード"
      ]
    },
    {
      "cell_type": "code",
      "metadata": {
        "id": "FoiN5oK2dCr9",
        "colab_type": "code",
        "outputId": "5dd3b6e1-f0a4-49a2-ec2f-976c77c4d914",
        "colab": {
          "base_uri": "https://localhost:8080/",
          "height": 204
        }
      },
      "source": [
        "!wget --no-check-certificate --output-document=covid19_tokyo.json 'https://raw.githubusercontent.com/tokyo-metropolitan-gov/covid19/development/data/data.json'"
      ],
      "execution_count": 0,
      "outputs": [
        {
          "output_type": "stream",
          "text": [
            "--2020-04-01 16:20:59--  https://raw.githubusercontent.com/tokyo-metropolitan-gov/covid19/development/data/data.json\n",
            "Resolving raw.githubusercontent.com (raw.githubusercontent.com)... 151.101.0.133, 151.101.64.133, 151.101.128.133, ...\n",
            "Connecting to raw.githubusercontent.com (raw.githubusercontent.com)|151.101.0.133|:443... connected.\n",
            "HTTP request sent, awaiting response... 200 OK\n",
            "Length: 224400 (219K) [text/plain]\n",
            "Saving to: ‘covid19_tokyo.json’\n",
            "\n",
            "\rcovid19_tokyo.json    0%[                    ]       0  --.-KB/s               \rcovid19_tokyo.json  100%[===================>] 219.14K  --.-KB/s    in 0.05s   \n",
            "\n",
            "2020-04-01 16:21:00 (4.25 MB/s) - ‘covid19_tokyo.json’ saved [224400/224400]\n",
            "\n"
          ],
          "name": "stdout"
        }
      ]
    },
    {
      "cell_type": "markdown",
      "metadata": {
        "id": "RBp_5B4IS2U9",
        "colab_type": "text"
      },
      "source": [
        "jsonデータをpandasを使って読み込み"
      ]
    },
    {
      "cell_type": "code",
      "metadata": {
        "id": "p4GoqhV8mvQR",
        "colab_type": "code",
        "colab": {}
      },
      "source": [
        "import pandas as pd\n",
        "data = pd.read_json('covid19_tokyo.json')"
      ],
      "execution_count": 0,
      "outputs": []
    },
    {
      "cell_type": "markdown",
      "metadata": {
        "id": "gP7eouzZVAPM",
        "colab_type": "text"
      },
      "source": [
        "データが読み込めているか確認"
      ]
    },
    {
      "cell_type": "markdown",
      "metadata": {
        "id": "WS9ybEd5jHQr",
        "colab_type": "text"
      },
      "source": [
        "### 東京の感染者数データの可視化\n",
        "matplotlibをインポート"
      ]
    },
    {
      "cell_type": "code",
      "metadata": {
        "id": "qRu7D9ABoX6x",
        "colab_type": "code",
        "colab": {}
      },
      "source": [
        "import matplotlib.pyplot as plt"
      ],
      "execution_count": 0,
      "outputs": []
    },
    {
      "cell_type": "markdown",
      "metadata": {
        "id": "zbNH76WiB_pa",
        "colab_type": "text"
      },
      "source": [
        "日付のデータを読み込み"
      ]
    },
    {
      "cell_type": "code",
      "metadata": {
        "id": "tLE_susoB4K5",
        "colab_type": "code",
        "outputId": "c44106b8-1c5d-44cb-bead-ba4a359da3d6",
        "colab": {
          "base_uri": "https://localhost:8080/",
          "height": 54
        }
      },
      "source": [
        "date_data = []\n",
        "for i in range(len(data['inspection_persons']['labels'])):\n",
        "    date_data.append(data['inspection_persons']['labels'][i][0:10])\n",
        "print(date_data)"
      ],
      "execution_count": 0,
      "outputs": [
        {
          "output_type": "stream",
          "text": [
            "['2020-01-24', '2020-01-25', '2020-01-26', '2020-01-27', '2020-01-28', '2020-01-29', '2020-01-30', '2020-01-31', '2020-02-01', '2020-02-02', '2020-02-03', '2020-02-04', '2020-02-05', '2020-02-06', '2020-02-07', '2020-02-08', '2020-02-09', '2020-02-10', '2020-02-11', '2020-02-12', '2020-02-13', '2020-02-14', '2020-02-15', '2020-02-16', '2020-02-17', '2020-02-18', '2020-02-19', '2020-02-20', '2020-02-21', '2020-02-22', '2020-02-23', '2020-02-24', '2020-02-25', '2020-02-26', '2020-02-27', '2020-02-28', '2020-02-29', '2020-03-01', '2020-03-02', '2020-03-03', '2020-03-04', '2020-03-05', '2020-03-06', '2020-03-07', '2020-03-08', '2020-03-09', '2020-03-10', '2020-03-11', '2020-03-12', '2020-03-13', '2020-03-14', '2020-03-15', '2020-03-16', '2020-03-17', '2020-03-18', '2020-03-19', '2020-03-20', '2020-03-21', '2020-03-22', '2020-03-23', '2020-03-24', '2020-03-25', '2020-03-26', '2020-03-27', '2020-03-28', '2020-03-29', '2020-03-30', '2020-03-31']\n"
          ],
          "name": "stdout"
        }
      ]
    },
    {
      "cell_type": "markdown",
      "metadata": {
        "id": "OJDa4Lbq4UV0",
        "colab_type": "text"
      },
      "source": [
        "検査実施数のデータ可視化"
      ]
    },
    {
      "cell_type": "code",
      "metadata": {
        "id": "8kkpsbV806-a",
        "colab_type": "code",
        "outputId": "4e295eee-47ce-496a-9115-effe0eed67c5",
        "colab": {
          "base_uri": "https://localhost:8080/",
          "height": 391
        }
      },
      "source": [
        "plt.figure(figsize=(9,6))\n",
        "plt.bar(date_data, data['inspection_persons']['datasets'][0]['data'])"
      ],
      "execution_count": 0,
      "outputs": [
        {
          "output_type": "execute_result",
          "data": {
            "text/plain": [
              "<BarContainer object of 68 artists>"
            ]
          },
          "metadata": {
            "tags": []
          },
          "execution_count": 25
        },
        {
          "output_type": "display_data",
          "data": {
            "image/png": "[encoded data removed]",
            "text/plain": [
              "<Figure size 648x432 with 1 Axes>"
            ]
          },
          "metadata": {
            "tags": []
          }
        }
      ]
    },
    {
      "cell_type": "markdown",
      "metadata": {
        "id": "S_HlunOPA3wx",
        "colab_type": "text"
      },
      "source": [
        "陽性患者数のデータ可視化"
      ]
    },
    {
      "cell_type": "code",
      "metadata": {
        "id": "AC4h6ij72l8i",
        "colab_type": "code",
        "outputId": "bd9fd999-2c0d-4d80-f4c6-cd28d90810d1",
        "colab": {
          "base_uri": "https://localhost:8080/",
          "height": 34
        }
      },
      "source": [
        "patients_data = []\n",
        "for i in range(len(data['inspection_persons']['labels'])):\n",
        "    patients_data.append(data['patients_summary']['data'][i]['小計'])\n",
        "print(patients_data)"
      ],
      "execution_count": 0,
      "outputs": [
        {
          "output_type": "stream",
          "text": [
            "[1, 1, 0, 0, 0, 0, 1, 0, 0, 0, 0, 0, 0, 0, 0, 0, 0, 0, 0, 0, 1, 2, 8, 5, 0, 3, 3, 0, 3, 1, 0, 3, 0, 3, 1, 0, 1, 2, 0, 1, 4, 8, 6, 6, 0, 0, 3, 6, 2, 2, 10, 3, 0, 12, 9, 7, 11, 7, 2, 16, 17, 41, 47, 40, 63, 68, 13, 78]\n"
          ],
          "name": "stdout"
        }
      ]
    },
    {
      "cell_type": "code",
      "metadata": {
        "id": "lN6d8nwb4Yvb",
        "colab_type": "code",
        "outputId": "dc4ab5bf-e879-4541-bb7c-b1be9175895b",
        "colab": {
          "base_uri": "https://localhost:8080/",
          "height": 391
        }
      },
      "source": [
        "plt.figure(figsize=(9,6))\n",
        "plt.bar(date_data, patients_data)"
      ],
      "execution_count": 0,
      "outputs": [
        {
          "output_type": "execute_result",
          "data": {
            "text/plain": [
              "<BarContainer object of 68 artists>"
            ]
          },
          "metadata": {
            "tags": []
          },
          "execution_count": 27
        },
        {
          "output_type": "display_data",
          "data": {
            "image/png": "[encoded data removed]",
            "text/plain": [
              "<Figure size 648x432 with 1 Axes>"
            ]
          },
          "metadata": {
            "tags": []
          }
        }
      ]
    },
    {
      "cell_type": "markdown",
      "metadata": {
        "id": "U3PGf4XFA70Y",
        "colab_type": "text"
      },
      "source": [
        "検査実施数に対する陽性患者数の割合（0〜1.0）を計算"
      ]
    },
    {
      "cell_type": "code",
      "metadata": {
        "id": "mkgWQ2Be4ovY",
        "colab_type": "code",
        "outputId": "b704ec02-70fa-436c-9556-22a428dbf4ef",
        "colab": {
          "base_uri": "https://localhost:8080/",
          "height": 85
        }
      },
      "source": [
        "import numpy as np\n",
        "np_patients_data = np.array(patients_data)\n",
        "np_inspection_persons = np.array(data['inspection_persons']['datasets'][0]['data'])\n",
        "\n",
        "np_patients_inspection_ratio = np_patients_data / np_inspection_persons"
      ],
      "execution_count": 0,
      "outputs": [
        {
          "output_type": "stream",
          "text": [
            "/usr/local/lib/python3.6/dist-packages/ipykernel_launcher.py:5: RuntimeWarning: divide by zero encountered in true_divide\n",
            "  \"\"\"\n",
            "/usr/local/lib/python3.6/dist-packages/ipykernel_launcher.py:5: RuntimeWarning: invalid value encountered in true_divide\n",
            "  \"\"\"\n"
          ],
          "name": "stderr"
        }
      ]
    },
    {
      "cell_type": "markdown",
      "metadata": {
        "id": "2U93HhHTRXQE",
        "colab_type": "text"
      },
      "source": [
        "検査実施数に対する陽性患者数の割合（0〜1.0）の時系列データを可視化"
      ]
    },
    {
      "cell_type": "code",
      "metadata": {
        "id": "aOjSyemq4hhP",
        "colab_type": "code",
        "outputId": "aa3a51e9-0652-45b9-b28e-8740c8b8ac65",
        "colab": {
          "base_uri": "https://localhost:8080/",
          "height": 395
        }
      },
      "source": [
        "plt.figure(figsize=(9,6))\n",
        "plt.xlim(60, 65)\n",
        "plt.ylim(0, 1)\n",
        "plt.bar(date_data, np_patients_inspection_ratio)"
      ],
      "execution_count": 0,
      "outputs": [
        {
          "output_type": "execute_result",
          "data": {
            "text/plain": [
              "<BarContainer object of 68 artists>"
            ]
          },
          "metadata": {
            "tags": []
          },
          "execution_count": 29
        },
        {
          "output_type": "display_data",
          "data": {
            "image/png": "[encoded data removed]",
            "text/plain": [
              "<Figure size 648x432 with 1 Axes>"
            ]
          },
          "metadata": {
            "tags": []
          }
        }
      ]
    },
    {
      "cell_type": "markdown",
      "metadata": {
        "id": "NjNMAGij6iru",
        "colab_type": "text"
      },
      "source": [
        "## 愛知県のデータ分析\n",
        "### 愛知のデータダウンロードと読み込み\n",
        "愛知の感染動向サイトのjsonデータをダウンロード"
      ]
    },
    {
      "cell_type": "code",
      "metadata": {
        "id": "HSk6zTZg6mg6",
        "colab_type": "code",
        "outputId": "f0541173-0b84-4c92-9968-41368b958567",
        "colab": {
          "base_uri": "https://localhost:8080/",
          "height": 204
        }
      },
      "source": [
        "!wget --no-check-certificate --output-document=covid19_aichi.json 'https://raw.githubusercontent.com/code4nagoya/covid19/development/data/data.json'"
      ],
      "execution_count": 0,
      "outputs": [
        {
          "output_type": "stream",
          "text": [
            "--2020-04-01 16:34:28--  https://raw.githubusercontent.com/code4nagoya/covid19/development/data/data.json\n",
            "Resolving raw.githubusercontent.com (raw.githubusercontent.com)... 151.101.0.133, 151.101.64.133, 151.101.128.133, ...\n",
            "Connecting to raw.githubusercontent.com (raw.githubusercontent.com)|151.101.0.133|:443... connected.\n",
            "HTTP request sent, awaiting response... 200 OK\n",
            "Length: 86105 (84K) [text/plain]\n",
            "Saving to: ‘covid19_aichi.json’\n",
            "\n",
            "\rcovid19_aichi.json    0%[                    ]       0  --.-KB/s               \rcovid19_aichi.json  100%[===================>]  84.09K  --.-KB/s    in 0.02s   \n",
            "\n",
            "2020-04-01 16:34:28 (3.29 MB/s) - ‘covid19_aichi.json’ saved [86105/86105]\n",
            "\n"
          ],
          "name": "stdout"
        }
      ]
    },
    {
      "cell_type": "markdown",
      "metadata": {
        "id": "ykbWVva9RN5W",
        "colab_type": "text"
      },
      "source": [
        "pandasでjson形式のファイルを読み込み"
      ]
    },
    {
      "cell_type": "code",
      "metadata": {
        "id": "xRgFrSIY75qy",
        "colab_type": "code",
        "colab": {}
      },
      "source": [
        "data = pd.read_json('covid19_aichi.json')"
      ],
      "execution_count": 0,
      "outputs": []
    },
    {
      "cell_type": "markdown",
      "metadata": {
        "id": "ajQQVrhcD9Fq",
        "colab_type": "text"
      },
      "source": [
        "日付のデータ読み込み"
      ]
    },
    {
      "cell_type": "code",
      "metadata": {
        "id": "wPQijE0Z-x-_",
        "colab_type": "code",
        "outputId": "2b89ccbd-b085-4484-a268-013ed04cf514",
        "colab": {
          "base_uri": "https://localhost:8080/",
          "height": 34
        }
      },
      "source": [
        "date_data = []\n",
        "for i in range(15):\n",
        "    date_data.append(data['inspections_summary']['data'][i+2]['日付'])\n",
        "print(date_data)"
      ],
      "execution_count": 0,
      "outputs": [
        {
          "output_type": "stream",
          "text": [
            "['2020-03-15', '2020-03-16', '2020-03-17', '2020-03-18', '2020-03-19', '2020-03-20', '2020-03-21', '2020-03-22', '2020-03-23', '2020-03-24', '2020-03-25', '2020-03-26', '2020-03-27', '2020-03-28', '2020-03-29']\n"
          ],
          "name": "stdout"
        }
      ]
    },
    {
      "cell_type": "markdown",
      "metadata": {
        "id": "y_7jtvukQLF4",
        "colab_type": "text"
      },
      "source": [
        "検査人数のデータ読み込み"
      ]
    },
    {
      "cell_type": "code",
      "metadata": {
        "id": "GN_PzTe-8-y-",
        "colab_type": "code",
        "outputId": "6dc40d14-44f8-44ad-b8c0-7de07eaaa6ea",
        "colab": {
          "base_uri": "https://localhost:8080/",
          "height": 34
        }
      },
      "source": [
        "inspection_data = []\n",
        "for i in range(15):\n",
        "    inspection_data.append((int)(data['inspections_summary']['data'][i+2]['小計']))\n",
        "print(inspection_data)"
      ],
      "execution_count": 0,
      "outputs": [
        {
          "output_type": "stream",
          "text": [
            "[806, 50, 263, 110, 273, 262, 58, 91, 89, 185, 164, 178, 181, 138, 54]\n"
          ],
          "name": "stdout"
        }
      ]
    },
    {
      "cell_type": "markdown",
      "metadata": {
        "id": "CmgH2M56QVpn",
        "colab_type": "text"
      },
      "source": [
        "陽性患者のデータ読み込み"
      ]
    },
    {
      "cell_type": "code",
      "metadata": {
        "id": "pEH_qLkG91Wk",
        "colab_type": "code",
        "outputId": "ea83af1e-68b3-4c8e-8304-b6ed833efd9a",
        "colab": {
          "base_uri": "https://localhost:8080/",
          "height": 34
        }
      },
      "source": [
        "patients_data = []\n",
        "for i in range(15):\n",
        "    patients_data.append(data['patients_summary']['data'][i+49]['小計'])\n",
        "print(patients_data)"
      ],
      "execution_count": 0,
      "outputs": [
        {
          "output_type": "stream",
          "text": [
            "[0, 2, 2, 5, 4, 5, 2, 2, 2, 3, 6, 3, 3, 4, 3]\n"
          ],
          "name": "stdout"
        }
      ]
    },
    {
      "cell_type": "markdown",
      "metadata": {
        "id": "O-BCrJpaQkeM",
        "colab_type": "text"
      },
      "source": [
        "検査数に対する感染者数の割合（0〜1.0）を計算"
      ]
    },
    {
      "cell_type": "code",
      "metadata": {
        "id": "xGiq9bky-8DE",
        "colab_type": "code",
        "colab": {}
      },
      "source": [
        "np_patients_data = np.array(patients_data)\n",
        "np_inspection_data = np.array(inspection_data)\n",
        "\n",
        "np_patients_inspection_ratio = np_patients_data / np_inspection_data"
      ],
      "execution_count": 0,
      "outputs": []
    },
    {
      "cell_type": "markdown",
      "metadata": {
        "id": "VOZhvFBNRUqj",
        "colab_type": "text"
      },
      "source": [
        "検査実施数に対する陽性患者数の割合（0〜1.0）の時系列データを可視化"
      ]
    },
    {
      "cell_type": "code",
      "metadata": {
        "id": "g7ZTp47K-pJI",
        "colab_type": "code",
        "outputId": "a24309de-ad6d-4619-fdba-f9c3d0410125",
        "colab": {
          "base_uri": "https://localhost:8080/",
          "height": 395
        }
      },
      "source": [
        "plt.figure(figsize=(9,6))\n",
        "plt.xlim(9, 14)\n",
        "plt.ylim(0, 1)\n",
        "\n",
        "plt.bar(date_data, np_patients_inspection_ratio)"
      ],
      "execution_count": 0,
      "outputs": [
        {
          "output_type": "execute_result",
          "data": {
            "text/plain": [
              "<BarContainer object of 15 artists>"
            ]
          },
          "metadata": {
            "tags": []
          },
          "execution_count": 36
        },
        {
          "output_type": "display_data",
          "data": {
            "image/png": "[encoded data removed]",
            "text/plain": [
              "<Figure size 648x432 with 1 Axes>"
            ]
          },
          "metadata": {
            "tags": []
          }
        }
      ]
    },
    {
      "cell_type": "markdown",
      "metadata": {
        "id": "gcMbKXNRXRMG",
        "colab_type": "text"
      },
      "source": [
        "# References\n",
        "- https://qiita.com/fujisawakoichi/items/843d177b635f411d5b8d"
      ]
    }
  ]
}