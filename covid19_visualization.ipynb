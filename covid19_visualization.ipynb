{
  "nbformat": 4,
  "nbformat_minor": 0,
  "metadata": {
    "colab": {
      "name": "covid19_visualization.ipynb",
      "provenance": [],
      "collapsed_sections": [],
      "authorship_tag": "ABX9TyM8rpAvBnV+fWyAKoLaFWq0",
      "include_colab_link": true
    },
    "kernelspec": {
      "name": "python3",
      "display_name": "Python 3"
    }
  },
  "cells": [
    {
      "cell_type": "markdown",
      "metadata": {
        "id": "view-in-github",
        "colab_type": "text"
      },
      "source": [
        "<a href=\"https://colab.research.google.com/github/karaage0703/covid19_memo/blob/master/covid19_visualization.ipynb\" target=\"_parent\"><img src=\"https://colab.research.google.com/assets/colab-badge.svg\" alt=\"Open In Colab\"/></a>"
      ]
    },
    {
      "cell_type": "markdown",
      "metadata": {
        "id": "kyEcePvJnKQC",
        "colab_type": "text"
      },
      "source": [
        "# 新型コロナウイルスの感染状況を分析するためのノートブック\n",
        "\n",
        "データを可視化するために、個人的に作成しているものです。\n",
        "\n",
        "内容の正確性を保証するものではありませんので、ご注意下さい。\n",
        "\n",
        "\n",
        "以下リポジトリでPR受付中です。\n",
        "\n",
        "https://github.com/karaage0703/covid19_memo\n",
        "\n",
        "# 変更履歴\n",
        "- 2020/03/23 データ更新\n",
        "- 2020/03/07 13:42 データ更新\n"
      ]
    },
    {
      "cell_type": "markdown",
      "metadata": {
        "id": "s7hzVmGPSjXw",
        "colab_type": "text"
      },
      "source": [
        "## データのダウンロード\n",
        "\n",
        "以下のオープンデータを使用（Google Spread Sheet)\n",
        "\n",
        "https://docs.google.com/spreadsheets/d/1jfB4muWkzKTR0daklmf8D5F0Uf_IYAgcx_-Ij9McClQ/edit#gid=0"
      ]
    },
    {
      "cell_type": "code",
      "metadata": {
        "id": "FoiN5oK2dCr9",
        "colab_type": "code",
        "outputId": "60ceb902-816c-4fe2-c63d-b0b83622742a",
        "colab": {
          "base_uri": "https://localhost:8080/",
          "height": 204
        }
      },
      "source": [
        "!wget --no-check-certificate --output-document=covid19jp.csv 'https://docs.google.com/spreadsheets/d/1jfB4muWkzKTR0daklmf8D5F0Uf_IYAgcx_-Ij9McClQ/export?gid=0&format=csv'"
      ],
      "execution_count": 2,
      "outputs": [
        {
          "output_type": "stream",
          "text": [
            "--2020-03-23 13:37:34--  https://docs.google.com/spreadsheets/d/1jfB4muWkzKTR0daklmf8D5F0Uf_IYAgcx_-Ij9McClQ/export?gid=0&format=csv\n",
            "Resolving docs.google.com (docs.google.com)... 64.233.188.101, 64.233.188.102, 64.233.188.100, ...\n",
            "Connecting to docs.google.com (docs.google.com)|64.233.188.101|:443... connected.\n",
            "HTTP request sent, awaiting response... 200 OK\n",
            "Length: unspecified [text/csv]\n",
            "Saving to: ‘covid19jp.csv’\n",
            "\n",
            "covid19jp.csv           [  <=>               ] 280.38K  1.27MB/s    in 0.2s    \n",
            "\n",
            "2020-03-23 13:37:36 (1.27 MB/s) - ‘covid19jp.csv’ saved [287105]\n",
            "\n"
          ],
          "name": "stdout"
        }
      ]
    },
    {
      "cell_type": "markdown",
      "metadata": {
        "id": "RBp_5B4IS2U9",
        "colab_type": "text"
      },
      "source": [
        "## データ読み込みと確認\n",
        "\n",
        "データをpandasを使って読み込み、内容を確認する"
      ]
    },
    {
      "cell_type": "markdown",
      "metadata": {
        "id": "P6AwUMwuTFSn",
        "colab_type": "text"
      },
      "source": [
        "pandasで読み込む"
      ]
    },
    {
      "cell_type": "code",
      "metadata": {
        "id": "p4GoqhV8mvQR",
        "colab_type": "code",
        "colab": {}
      },
      "source": [
        "import pandas as pd\n",
        "data = pd.read_csv('covid19jp.csv')"
      ],
      "execution_count": 0,
      "outputs": []
    },
    {
      "cell_type": "markdown",
      "metadata": {
        "id": "gP7eouzZVAPM",
        "colab_type": "text"
      },
      "source": [
        "データが読み込めているか確認"
      ]
    },
    {
      "cell_type": "code",
      "metadata": {
        "id": "NCz4S1HeTAif",
        "colab_type": "code",
        "outputId": "39c54951-5f3b-4e18-dea2-599b1ad1ba3a",
        "colab": {
          "base_uri": "https://localhost:8080/",
          "height": 411
        }
      },
      "source": [
        "data.head()"
      ],
      "execution_count": 4,
      "outputs": [
        {
          "output_type": "execute_result",
          "data": {
            "text/html": [
              "<div>\n",
              "<style scoped>\n",
              "    .dataframe tbody tr th:only-of-type {\n",
              "        vertical-align: middle;\n",
              "    }\n",
              "\n",
              "    .dataframe tbody tr th {\n",
              "        vertical-align: top;\n",
              "    }\n",
              "\n",
              "    .dataframe thead th {\n",
              "        text-align: right;\n",
              "    }\n",
              "</style>\n",
              "<table border=\"1\" class=\"dataframe\">\n",
              "  <thead>\n",
              "    <tr style=\"text-align: right;\">\n",
              "      <th></th>\n",
              "      <th>Patient Number</th>\n",
              "      <th>Date Announced</th>\n",
              "      <th>Date Added</th>\n",
              "      <th>Age Bracket</th>\n",
              "      <th>Gender</th>\n",
              "      <th>Residence City, Prefecture</th>\n",
              "      <th>Detected City</th>\n",
              "      <th>Detected Prefecture</th>\n",
              "      <th>Status</th>\n",
              "      <th>Click Here For Sheet Information</th>\n",
              "      <th>Notes</th>\n",
              "      <th>Source(s)</th>\n",
              "      <th>Related Patients</th>\n",
              "      <th>Known Cluster</th>\n",
              "      <th>MHLW (Orig) Patient Number</th>\n",
              "      <th>Prefecture Patient Number</th>\n",
              "      <th>City Patient Number</th>\n",
              "      <th>Charter Flight Passenger</th>\n",
              "      <th>Cruise Passenger (Disembarked)</th>\n",
              "      <th>Cruise Passenger (Infected Onboard)</th>\n",
              "      <th>Cruise Quarantine Officer</th>\n",
              "      <th>Deceased</th>\n",
              "      <th>Prefecture URL (Auto)</th>\n",
              "    </tr>\n",
              "  </thead>\n",
              "  <tbody>\n",
              "    <tr>\n",
              "      <th>0</th>\n",
              "      <td>1.0</td>\n",
              "      <td>2020-01-30</td>\n",
              "      <td>2020-01-30</td>\n",
              "      <td>50</td>\n",
              "      <td>M</td>\n",
              "      <td>Wuhan, China</td>\n",
              "      <td>NaN</td>\n",
              "      <td>Unspecified</td>\n",
              "      <td>Discharged</td>\n",
              "      <td>NaN</td>\n",
              "      <td>Japanese lives in China</td>\n",
              "      <td>https://www.mhlw.go.jp/stf/newpage_09531.html</td>\n",
              "      <td>NaN</td>\n",
              "      <td>Charter Flight</td>\n",
              "      <td>9</td>\n",
              "      <td>NaN</td>\n",
              "      <td>NaN</td>\n",
              "      <td>1.0</td>\n",
              "      <td>NaN</td>\n",
              "      <td>NaN</td>\n",
              "      <td>NaN</td>\n",
              "      <td>NaN</td>\n",
              "      <td>NaN</td>\n",
              "    </tr>\n",
              "    <tr>\n",
              "      <th>1</th>\n",
              "      <td>2.0</td>\n",
              "      <td>2020-02-01</td>\n",
              "      <td>2020-02-01</td>\n",
              "      <td>40</td>\n",
              "      <td>M</td>\n",
              "      <td>Unspecified</td>\n",
              "      <td>NaN</td>\n",
              "      <td>Unspecified</td>\n",
              "      <td>Discharged</td>\n",
              "      <td>NaN</td>\n",
              "      <td>NaN</td>\n",
              "      <td>https://www.mhlw.go.jp/stf/newpage_09531.html</td>\n",
              "      <td>3</td>\n",
              "      <td>Charter Flight</td>\n",
              "      <td>14</td>\n",
              "      <td>NaN</td>\n",
              "      <td>NaN</td>\n",
              "      <td>1.0</td>\n",
              "      <td>NaN</td>\n",
              "      <td>NaN</td>\n",
              "      <td>NaN</td>\n",
              "      <td>NaN</td>\n",
              "      <td>NaN</td>\n",
              "    </tr>\n",
              "    <tr>\n",
              "      <th>2</th>\n",
              "      <td>3.0</td>\n",
              "      <td>2020-02-01</td>\n",
              "      <td>2020-02-01</td>\n",
              "      <td>40</td>\n",
              "      <td>M</td>\n",
              "      <td>China</td>\n",
              "      <td>NaN</td>\n",
              "      <td>Unspecified</td>\n",
              "      <td>Discharged</td>\n",
              "      <td>NaN</td>\n",
              "      <td>Japanese lives in China</td>\n",
              "      <td>https://www.mhlw.go.jp/stf/newpage_09531.html</td>\n",
              "      <td>2</td>\n",
              "      <td>Charter Flight</td>\n",
              "      <td>15</td>\n",
              "      <td>NaN</td>\n",
              "      <td>NaN</td>\n",
              "      <td>1.0</td>\n",
              "      <td>NaN</td>\n",
              "      <td>NaN</td>\n",
              "      <td>NaN</td>\n",
              "      <td>NaN</td>\n",
              "      <td>NaN</td>\n",
              "    </tr>\n",
              "    <tr>\n",
              "      <th>3</th>\n",
              "      <td>4.0</td>\n",
              "      <td>2020-02-01</td>\n",
              "      <td>2020-02-01</td>\n",
              "      <td>40</td>\n",
              "      <td>M</td>\n",
              "      <td>Wuhan, China</td>\n",
              "      <td>NaN</td>\n",
              "      <td>Unspecified</td>\n",
              "      <td>Discharged</td>\n",
              "      <td>NaN</td>\n",
              "      <td>Japanese lives in China</td>\n",
              "      <td>https://www.mhlw.go.jp/stf/newpage_09531.html</td>\n",
              "      <td>NaN</td>\n",
              "      <td>Charter Flight</td>\n",
              "      <td>16</td>\n",
              "      <td>NaN</td>\n",
              "      <td>NaN</td>\n",
              "      <td>1.0</td>\n",
              "      <td>NaN</td>\n",
              "      <td>NaN</td>\n",
              "      <td>NaN</td>\n",
              "      <td>NaN</td>\n",
              "      <td>NaN</td>\n",
              "    </tr>\n",
              "    <tr>\n",
              "      <th>4</th>\n",
              "      <td>5.0</td>\n",
              "      <td>2020-02-04</td>\n",
              "      <td>2020-02-04</td>\n",
              "      <td>50</td>\n",
              "      <td>F</td>\n",
              "      <td>Chiba</td>\n",
              "      <td>NaN</td>\n",
              "      <td>Chiba</td>\n",
              "      <td>Discharged</td>\n",
              "      <td>NaN</td>\n",
              "      <td>NaN</td>\n",
              "      <td>https://www.mhlw.go.jp/stf/newpage_09531.html</td>\n",
              "      <td>NaN</td>\n",
              "      <td>Charter Flight</td>\n",
              "      <td>18</td>\n",
              "      <td>Chiba#2</td>\n",
              "      <td>NaN</td>\n",
              "      <td>1.0</td>\n",
              "      <td>NaN</td>\n",
              "      <td>NaN</td>\n",
              "      <td>NaN</td>\n",
              "      <td>NaN</td>\n",
              "      <td>https://www.mhlw.go.jp/stf/newpage_09531.html</td>\n",
              "    </tr>\n",
              "  </tbody>\n",
              "</table>\n",
              "</div>"
            ],
            "text/plain": [
              "   Patient Number  ...                          Prefecture URL (Auto)\n",
              "0             1.0  ...                                            NaN\n",
              "1             2.0  ...                                            NaN\n",
              "2             3.0  ...                                            NaN\n",
              "3             4.0  ...                                            NaN\n",
              "4             5.0  ...  https://www.mhlw.go.jp/stf/newpage_09531.html\n",
              "\n",
              "[5 rows x 23 columns]"
            ]
          },
          "metadata": {
            "tags": []
          },
          "execution_count": 4
        }
      ]
    },
    {
      "cell_type": "markdown",
      "metadata": {
        "id": "BFZR52wlpRpH",
        "colab_type": "text"
      },
      "source": [
        "データのチェック"
      ]
    },
    {
      "cell_type": "code",
      "metadata": {
        "id": "GavWgrnYpOSL",
        "colab_type": "code",
        "outputId": "9950e898-773e-46da-d5f4-5c9c6a2b2da6",
        "colab": {
          "base_uri": "https://localhost:8080/",
          "height": 493
        }
      },
      "source": [
        "data.info()"
      ],
      "execution_count": 5,
      "outputs": [
        {
          "output_type": "stream",
          "text": [
            "<class 'pandas.core.frame.DataFrame'>\n",
            "RangeIndex: 1141 entries, 0 to 1140\n",
            "Data columns (total 23 columns):\n",
            "Patient Number                         1098 non-null float64\n",
            "Date Announced                         1108 non-null object\n",
            "Date Added                             1111 non-null object\n",
            "Age Bracket                            1090 non-null object\n",
            "Gender                                 1091 non-null object\n",
            "Residence City, Prefecture             1016 non-null object\n",
            "Detected City                          894 non-null object\n",
            "Detected Prefecture                    1098 non-null object\n",
            "Status                                 411 non-null object\n",
            "Click Here For Sheet Information       4 non-null object\n",
            "Notes                                  656 non-null object\n",
            "Source(s)                              1066 non-null object\n",
            "Related Patients                       368 non-null object\n",
            "Known Cluster                          208 non-null object\n",
            "MHLW (Orig) Patient Number             448 non-null object\n",
            "Prefecture Patient Number              863 non-null object\n",
            "City Patient Number                    143 non-null object\n",
            "Charter Flight Passenger               14 non-null float64\n",
            "Cruise Passenger (Disembarked)         11 non-null float64\n",
            "Cruise Passenger (Infected Onboard)    0 non-null float64\n",
            "Cruise Quarantine Officer              13 non-null float64\n",
            "Deceased                               24 non-null object\n",
            "Prefecture URL (Auto)                  677 non-null object\n",
            "dtypes: float64(5), object(18)\n",
            "memory usage: 205.1+ KB\n"
          ],
          "name": "stdout"
        }
      ]
    },
    {
      "cell_type": "markdown",
      "metadata": {
        "id": "Mc5ZkQMJpVwz",
        "colab_type": "text"
      },
      "source": [
        "欠損値のチェック"
      ]
    },
    {
      "cell_type": "code",
      "metadata": {
        "id": "8PvQZBG_pO1d",
        "colab_type": "code",
        "outputId": "d01f88fc-3a96-4bbb-8d84-654d08cdf892",
        "colab": {
          "base_uri": "https://localhost:8080/",
          "height": 425
        }
      },
      "source": [
        "data.isna().sum()"
      ],
      "execution_count": 6,
      "outputs": [
        {
          "output_type": "execute_result",
          "data": {
            "text/plain": [
              "Patient Number                           43\n",
              "Date Announced                           33\n",
              "Date Added                               30\n",
              "Age Bracket                              51\n",
              "Gender                                   50\n",
              "Residence City, Prefecture              125\n",
              "Detected City                           247\n",
              "Detected Prefecture                      43\n",
              "Status                                  730\n",
              "Click Here For Sheet Information       1137\n",
              "Notes                                   485\n",
              "Source(s)                                75\n",
              "Related Patients                        773\n",
              "Known Cluster                           933\n",
              "MHLW (Orig) Patient Number              693\n",
              "Prefecture Patient Number               278\n",
              "City Patient Number                     998\n",
              "Charter Flight Passenger               1127\n",
              "Cruise Passenger (Disembarked)         1130\n",
              "Cruise Passenger (Infected Onboard)    1141\n",
              "Cruise Quarantine Officer              1128\n",
              "Deceased                               1117\n",
              "Prefecture URL (Auto)                   464\n",
              "dtype: int64"
            ]
          },
          "metadata": {
            "tags": []
          },
          "execution_count": 6
        }
      ]
    },
    {
      "cell_type": "markdown",
      "metadata": {
        "id": "oDFY7S2CVEbv",
        "colab_type": "text"
      },
      "source": [
        "愛知県に住んでいる人を抽出"
      ]
    },
    {
      "cell_type": "code",
      "metadata": {
        "id": "oI3x8-3zm-9v",
        "colab_type": "code",
        "outputId": "b3790a33-4ba3-4100-ae11-7c0a34c718ad",
        "colab": {
          "base_uri": "https://localhost:8080/",
          "height": 428
        }
      },
      "source": [
        "aichi_data = data[(data['Detected Prefecture'] == 'Aichi')]\n",
        "aichi_data.head()"
      ],
      "execution_count": 7,
      "outputs": [
        {
          "output_type": "execute_result",
          "data": {
            "text/html": [
              "<div>\n",
              "<style scoped>\n",
              "    .dataframe tbody tr th:only-of-type {\n",
              "        vertical-align: middle;\n",
              "    }\n",
              "\n",
              "    .dataframe tbody tr th {\n",
              "        vertical-align: top;\n",
              "    }\n",
              "\n",
              "    .dataframe thead th {\n",
              "        text-align: right;\n",
              "    }\n",
              "</style>\n",
              "<table border=\"1\" class=\"dataframe\">\n",
              "  <thead>\n",
              "    <tr style=\"text-align: right;\">\n",
              "      <th></th>\n",
              "      <th>Patient Number</th>\n",
              "      <th>Date Announced</th>\n",
              "      <th>Date Added</th>\n",
              "      <th>Age Bracket</th>\n",
              "      <th>Gender</th>\n",
              "      <th>Residence City, Prefecture</th>\n",
              "      <th>Detected City</th>\n",
              "      <th>Detected Prefecture</th>\n",
              "      <th>Status</th>\n",
              "      <th>Click Here For Sheet Information</th>\n",
              "      <th>Notes</th>\n",
              "      <th>Source(s)</th>\n",
              "      <th>Related Patients</th>\n",
              "      <th>Known Cluster</th>\n",
              "      <th>MHLW (Orig) Patient Number</th>\n",
              "      <th>Prefecture Patient Number</th>\n",
              "      <th>City Patient Number</th>\n",
              "      <th>Charter Flight Passenger</th>\n",
              "      <th>Cruise Passenger (Disembarked)</th>\n",
              "      <th>Cruise Passenger (Infected Onboard)</th>\n",
              "      <th>Cruise Quarantine Officer</th>\n",
              "      <th>Deceased</th>\n",
              "      <th>Prefecture URL (Auto)</th>\n",
              "    </tr>\n",
              "  </thead>\n",
              "  <tbody>\n",
              "    <tr>\n",
              "      <th>17</th>\n",
              "      <td>18.0</td>\n",
              "      <td>2020-01-26</td>\n",
              "      <td>2020-01-26</td>\n",
              "      <td>40</td>\n",
              "      <td>M</td>\n",
              "      <td>Wuhan, China</td>\n",
              "      <td>NaN</td>\n",
              "      <td>Aichi</td>\n",
              "      <td>NaN</td>\n",
              "      <td>NaN</td>\n",
              "      <td>Chinese traveler</td>\n",
              "      <td>https://www.mhlw.go.jp/stf/newpage_09531.html</td>\n",
              "      <td>28</td>\n",
              "      <td>NaN</td>\n",
              "      <td>4</td>\n",
              "      <td>Aichi#1</td>\n",
              "      <td>NaN</td>\n",
              "      <td>NaN</td>\n",
              "      <td>NaN</td>\n",
              "      <td>NaN</td>\n",
              "      <td>NaN</td>\n",
              "      <td>NaN</td>\n",
              "      <td>https://www.pref.aichi.jp/uploaded/attachment/...</td>\n",
              "    </tr>\n",
              "    <tr>\n",
              "      <th>18</th>\n",
              "      <td>19.0</td>\n",
              "      <td>2020-01-28</td>\n",
              "      <td>2020-01-28</td>\n",
              "      <td>40</td>\n",
              "      <td>M</td>\n",
              "      <td>Wuhan, China</td>\n",
              "      <td>NaN</td>\n",
              "      <td>Aichi</td>\n",
              "      <td>Hospitalized</td>\n",
              "      <td>NaN</td>\n",
              "      <td>Chinese traveler</td>\n",
              "      <td>https://www.mhlw.go.jp/stf/newpage_09531.html</td>\n",
              "      <td>NaN</td>\n",
              "      <td>NaN</td>\n",
              "      <td>5</td>\n",
              "      <td>Aichi#2</td>\n",
              "      <td>NaN</td>\n",
              "      <td>NaN</td>\n",
              "      <td>NaN</td>\n",
              "      <td>NaN</td>\n",
              "      <td>NaN</td>\n",
              "      <td>NaN</td>\n",
              "      <td>https://www.pref.aichi.jp/uploaded/attachment/...</td>\n",
              "    </tr>\n",
              "    <tr>\n",
              "      <th>39</th>\n",
              "      <td>40.0</td>\n",
              "      <td>2020-02-14</td>\n",
              "      <td>2020-02-14</td>\n",
              "      <td>60</td>\n",
              "      <td>M</td>\n",
              "      <td>Nagoya, Aichi</td>\n",
              "      <td>NaN</td>\n",
              "      <td>Aichi</td>\n",
              "      <td>NaN</td>\n",
              "      <td>NaN</td>\n",
              "      <td>Cruise to Hawaii, returned on 2/3</td>\n",
              "      <td>https://www.mhlw.go.jp/stf/newpage_09539.html</td>\n",
              "      <td>NaN</td>\n",
              "      <td>NaN</td>\n",
              "      <td>35</td>\n",
              "      <td>Aichi#3</td>\n",
              "      <td>NaN</td>\n",
              "      <td>NaN</td>\n",
              "      <td>NaN</td>\n",
              "      <td>NaN</td>\n",
              "      <td>NaN</td>\n",
              "      <td>NaN</td>\n",
              "      <td>http://www.city.nagoya.jp/kenkofukushi/cmsfile...</td>\n",
              "    </tr>\n",
              "    <tr>\n",
              "      <th>47</th>\n",
              "      <td>48.0</td>\n",
              "      <td>2020-02-15</td>\n",
              "      <td>2020-02-15</td>\n",
              "      <td>60</td>\n",
              "      <td>F</td>\n",
              "      <td>Aichi</td>\n",
              "      <td>Nagoya</td>\n",
              "      <td>Aichi</td>\n",
              "      <td>NaN</td>\n",
              "      <td>NaN</td>\n",
              "      <td>Wife of Aichi#3</td>\n",
              "      <td>https://www.mhlw.go.jp/stf/newpage_09545.html</td>\n",
              "      <td>35</td>\n",
              "      <td>NaN</td>\n",
              "      <td>43</td>\n",
              "      <td>Aichi#4</td>\n",
              "      <td>NaN</td>\n",
              "      <td>NaN</td>\n",
              "      <td>NaN</td>\n",
              "      <td>NaN</td>\n",
              "      <td>NaN</td>\n",
              "      <td>NaN</td>\n",
              "      <td>http://www.city.nagoya.jp/kenkofukushi/cmsfile...</td>\n",
              "    </tr>\n",
              "    <tr>\n",
              "      <th>48</th>\n",
              "      <td>49.0</td>\n",
              "      <td>2020-02-16</td>\n",
              "      <td>2020-02-16</td>\n",
              "      <td>60</td>\n",
              "      <td>M</td>\n",
              "      <td>Aichi</td>\n",
              "      <td>Owari</td>\n",
              "      <td>Aichi</td>\n",
              "      <td>NaN</td>\n",
              "      <td>NaN</td>\n",
              "      <td>Contact with Aichi#4</td>\n",
              "      <td>https://www.mhlw.go.jp/content/10906000/000596...</td>\n",
              "      <td>48</td>\n",
              "      <td>NaN</td>\n",
              "      <td>44</td>\n",
              "      <td>Aichi#5</td>\n",
              "      <td>NaN</td>\n",
              "      <td>NaN</td>\n",
              "      <td>NaN</td>\n",
              "      <td>NaN</td>\n",
              "      <td>NaN</td>\n",
              "      <td>NaN</td>\n",
              "      <td>https://www.pref.aichi.jp/uploaded/attachment/...</td>\n",
              "    </tr>\n",
              "  </tbody>\n",
              "</table>\n",
              "</div>"
            ],
            "text/plain": [
              "    Patient Number  ...                              Prefecture URL (Auto)\n",
              "17            18.0  ...  https://www.pref.aichi.jp/uploaded/attachment/...\n",
              "18            19.0  ...  https://www.pref.aichi.jp/uploaded/attachment/...\n",
              "39            40.0  ...  http://www.city.nagoya.jp/kenkofukushi/cmsfile...\n",
              "47            48.0  ...  http://www.city.nagoya.jp/kenkofukushi/cmsfile...\n",
              "48            49.0  ...  https://www.pref.aichi.jp/uploaded/attachment/...\n",
              "\n",
              "[5 rows x 23 columns]"
            ]
          },
          "metadata": {
            "tags": []
          },
          "execution_count": 7
        }
      ]
    },
    {
      "cell_type": "markdown",
      "metadata": {
        "id": "Jn8kkdZhW_3Z",
        "colab_type": "text"
      },
      "source": [
        "データのチェック"
      ]
    },
    {
      "cell_type": "code",
      "metadata": {
        "id": "Wr4BuU2KW6Mz",
        "colab_type": "code",
        "outputId": "d10781e0-a979-4cae-8c2a-c57ce7649aa7",
        "colab": {
          "base_uri": "https://localhost:8080/",
          "height": 493
        }
      },
      "source": [
        "aichi_data.info()"
      ],
      "execution_count": 8,
      "outputs": [
        {
          "output_type": "stream",
          "text": [
            "<class 'pandas.core.frame.DataFrame'>\n",
            "Int64Index: 146 entries, 17 to 1068\n",
            "Data columns (total 23 columns):\n",
            "Patient Number                         146 non-null float64\n",
            "Date Announced                         146 non-null object\n",
            "Date Added                             146 non-null object\n",
            "Age Bracket                            146 non-null object\n",
            "Gender                                 146 non-null object\n",
            "Residence City, Prefecture             146 non-null object\n",
            "Detected City                          135 non-null object\n",
            "Detected Prefecture                    146 non-null object\n",
            "Status                                 44 non-null object\n",
            "Click Here For Sheet Information       0 non-null object\n",
            "Notes                                  76 non-null object\n",
            "Source(s)                              142 non-null object\n",
            "Related Patients                       100 non-null object\n",
            "Known Cluster                          7 non-null object\n",
            "MHLW (Orig) Patient Number             79 non-null object\n",
            "Prefecture Patient Number              116 non-null object\n",
            "City Patient Number                    98 non-null object\n",
            "Charter Flight Passenger               0 non-null float64\n",
            "Cruise Passenger (Disembarked)         0 non-null float64\n",
            "Cruise Passenger (Infected Onboard)    0 non-null float64\n",
            "Cruise Quarantine Officer              0 non-null float64\n",
            "Deceased                               10 non-null object\n",
            "Prefecture URL (Auto)                  111 non-null object\n",
            "dtypes: float64(5), object(18)\n",
            "memory usage: 27.4+ KB\n"
          ],
          "name": "stdout"
        }
      ]
    },
    {
      "cell_type": "markdown",
      "metadata": {
        "id": "GlGW3hb3XBa_",
        "colab_type": "text"
      },
      "source": [
        "欠損値のチェック"
      ]
    },
    {
      "cell_type": "code",
      "metadata": {
        "id": "55rHfQybXFFT",
        "colab_type": "code",
        "outputId": "cb269f5b-c93a-44d6-884a-39f50abc8ce9",
        "colab": {
          "base_uri": "https://localhost:8080/",
          "height": 425
        }
      },
      "source": [
        "aichi_data.isna().sum()"
      ],
      "execution_count": 9,
      "outputs": [
        {
          "output_type": "execute_result",
          "data": {
            "text/plain": [
              "Patient Number                           0\n",
              "Date Announced                           0\n",
              "Date Added                               0\n",
              "Age Bracket                              0\n",
              "Gender                                   0\n",
              "Residence City, Prefecture               0\n",
              "Detected City                           11\n",
              "Detected Prefecture                      0\n",
              "Status                                 102\n",
              "Click Here For Sheet Information       146\n",
              "Notes                                   70\n",
              "Source(s)                                4\n",
              "Related Patients                        46\n",
              "Known Cluster                          139\n",
              "MHLW (Orig) Patient Number              67\n",
              "Prefecture Patient Number               30\n",
              "City Patient Number                     48\n",
              "Charter Flight Passenger               146\n",
              "Cruise Passenger (Disembarked)         146\n",
              "Cruise Passenger (Infected Onboard)    146\n",
              "Cruise Quarantine Officer              146\n",
              "Deceased                               136\n",
              "Prefecture URL (Auto)                   35\n",
              "dtype: int64"
            ]
          },
          "metadata": {
            "tags": []
          },
          "execution_count": 9
        }
      ]
    },
    {
      "cell_type": "markdown",
      "metadata": {
        "id": "WS9ybEd5jHQr",
        "colab_type": "text"
      },
      "source": [
        "## 感染者数の分析\n",
        "### 準備\n",
        "\n",
        "matplotlibをインポート\n",
        "\n",
        "\n",
        "\n",
        "\n"
      ]
    },
    {
      "cell_type": "code",
      "metadata": {
        "id": "qRu7D9ABoX6x",
        "colab_type": "code",
        "colab": {}
      },
      "source": [
        "import matplotlib.pyplot as plt"
      ],
      "execution_count": 0,
      "outputs": []
    },
    {
      "cell_type": "markdown",
      "metadata": {
        "id": "eL5uuBzJoZTR",
        "colab_type": "text"
      },
      "source": [
        "### 年齢別のヒストグラム"
      ]
    },
    {
      "cell_type": "markdown",
      "metadata": {
        "id": "C8fhLl-uofRq",
        "colab_type": "text"
      },
      "source": [
        "- データを読み込む\n",
        "- 欠損値を除去\n",
        "- int型に変換\n",
        "- ヒストグラムの表示"
      ]
    },
    {
      "cell_type": "markdown",
      "metadata": {
        "id": "xVSeiKFgTmBM",
        "colab_type": "text"
      },
      "source": [
        "全国のデータ"
      ]
    },
    {
      "cell_type": "code",
      "metadata": {
        "id": "zEp-SuRojPCH",
        "colab_type": "code",
        "outputId": "67009805-4169-4742-eba0-56a97ad9b18d",
        "colab": {
          "base_uri": "https://localhost:8080/",
          "height": 486
        }
      },
      "source": [
        "temp_data = data['Age Bracket']\n",
        "temp_data = temp_data.replace(['Unspecified', 'NaN'])\n",
        "temp_data = temp_data.replace(['unspecified', 'NaN'])\n",
        "temp_data = temp_data.dropna(how='all')\n",
        "print(temp_data)\n",
        "temp_data = temp_data.astype('int64')\n",
        "temp_data.hist()"
      ],
      "execution_count": 15,
      "outputs": [
        {
          "output_type": "stream",
          "text": [
            "0       50\n",
            "1       40\n",
            "2       40\n",
            "3       40\n",
            "4       50\n",
            "        ..\n",
            "1131    50\n",
            "1132    70\n",
            "1133    70\n",
            "1134    80\n",
            "1135    80\n",
            "Name: Age Bracket, Length: 1088, dtype: object\n"
          ],
          "name": "stdout"
        },
        {
          "output_type": "execute_result",
          "data": {
            "text/plain": [
              "<matplotlib.axes._subplots.AxesSubplot at 0x7f97b7283630>"
            ]
          },
          "metadata": {
            "tags": []
          },
          "execution_count": 15
        },
        {
          "output_type": "display_data",
          "data": {
            "image/png": "[encoded data removed]",
            "text/plain": [
              "<Figure size 432x288 with 1 Axes>"
            ]
          },
          "metadata": {
            "tags": []
          }
        }
      ]
    },
    {
      "cell_type": "markdown",
      "metadata": {
        "id": "K56ojAnhnbqH",
        "colab_type": "text"
      },
      "source": [
        "愛知のデータ"
      ]
    },
    {
      "cell_type": "code",
      "metadata": {
        "id": "xeixtdY8ndIr",
        "colab_type": "code",
        "outputId": "5a6b4cac-d63f-4ba2-a398-33e44d2e3f9c",
        "colab": {
          "base_uri": "https://localhost:8080/",
          "height": 282
        }
      },
      "source": [
        "temp_data = aichi_data['Age Bracket']\n",
        "temp_data = temp_data.replace(['Unspecified', 'NaN'])\n",
        "temp_data = temp_data.replace(['unspecified', 'NaN'])\n",
        "temp_data = temp_data.dropna(how='all')\n",
        "temp_data = temp_data.astype('int64')\n",
        "temp_data.hist()"
      ],
      "execution_count": 16,
      "outputs": [
        {
          "output_type": "execute_result",
          "data": {
            "text/plain": [
              "<matplotlib.axes._subplots.AxesSubplot at 0x7f97b6cf1860>"
            ]
          },
          "metadata": {
            "tags": []
          },
          "execution_count": 16
        },
        {
          "output_type": "display_data",
          "data": {
            "image/png": "[encoded data removed]",
            "text/plain": [
              "<Figure size 432x288 with 1 Axes>"
            ]
          },
          "metadata": {
            "tags": []
          }
        }
      ]
    },
    {
      "cell_type": "markdown",
      "metadata": {
        "id": "JVPWj_9XoF57",
        "colab_type": "text"
      },
      "source": [
        "### 性別の割合"
      ]
    },
    {
      "cell_type": "markdown",
      "metadata": {
        "id": "tZMwzzijo0Xe",
        "colab_type": "text"
      },
      "source": [
        "全国のデータ"
      ]
    },
    {
      "cell_type": "code",
      "metadata": {
        "id": "W7b_WtnUlYJt",
        "colab_type": "code",
        "outputId": "2924ff20-6142-4323-ea54-a0bc38a7b1f7",
        "colab": {
          "base_uri": "https://localhost:8080/",
          "height": 282
        }
      },
      "source": [
        "temp_data = data['Gender']\n",
        "temp_data = temp_data.dropna(how='all')\n",
        "temp_data.hist()"
      ],
      "execution_count": 17,
      "outputs": [
        {
          "output_type": "execute_result",
          "data": {
            "text/plain": [
              "<matplotlib.axes._subplots.AxesSubplot at 0x7f97b72833c8>"
            ]
          },
          "metadata": {
            "tags": []
          },
          "execution_count": 17
        },
        {
          "output_type": "display_data",
          "data": {
            "image/png": "[encoded data removed]",
            "text/plain": [
              "<Figure size 432x288 with 1 Axes>"
            ]
          },
          "metadata": {
            "tags": []
          }
        }
      ]
    },
    {
      "cell_type": "markdown",
      "metadata": {
        "id": "vp2fYmGxoJUm",
        "colab_type": "text"
      },
      "source": [
        "愛知のデータ"
      ]
    },
    {
      "cell_type": "code",
      "metadata": {
        "id": "lSJYOLRhoH3b",
        "colab_type": "code",
        "outputId": "41ca65b3-2576-4341-857c-416589af280e",
        "colab": {
          "base_uri": "https://localhost:8080/",
          "height": 282
        }
      },
      "source": [
        "temp_data = aichi_data['Gender']\n",
        "temp_data = temp_data.dropna(how='all')\n",
        "temp_data.hist()"
      ],
      "execution_count": 18,
      "outputs": [
        {
          "output_type": "execute_result",
          "data": {
            "text/plain": [
              "<matplotlib.axes._subplots.AxesSubplot at 0x7f97b6c38e48>"
            ]
          },
          "metadata": {
            "tags": []
          },
          "execution_count": 18
        },
        {
          "output_type": "display_data",
          "data": {
            "image/png": "[encoded data removed]",
            "text/plain": [
              "<Figure size 432x288 with 1 Axes>"
            ]
          },
          "metadata": {
            "tags": []
          }
        }
      ]
    },
    {
      "cell_type": "markdown",
      "metadata": {
        "id": "T201Hi-ArRWS",
        "colab_type": "text"
      },
      "source": [
        "#### 陽性患者数（1日当たりの増加数）\n",
        "全国のデータ"
      ]
    },
    {
      "cell_type": "code",
      "metadata": {
        "id": "_BiRye-pvzv4",
        "colab_type": "code",
        "outputId": "d496e2b0-7a90-43dd-ae45-1c5f6ac1cda7",
        "colab": {
          "base_uri": "https://localhost:8080/",
          "height": 282
        }
      },
      "source": [
        "temp_data = data.groupby('Date Announced')['Status'].apply(len)\n",
        "plt.bar(temp_data.index, temp_data, linewidth=0)"
      ],
      "execution_count": 19,
      "outputs": [
        {
          "output_type": "execute_result",
          "data": {
            "text/plain": [
              "<BarContainer object of 55 artists>"
            ]
          },
          "metadata": {
            "tags": []
          },
          "execution_count": 19
        },
        {
          "output_type": "display_data",
          "data": {
            "image/png": "[encoded data removed]",
            "text/plain": [
              "<Figure size 432x288 with 1 Axes>"
            ]
          },
          "metadata": {
            "tags": []
          }
        }
      ]
    },
    {
      "cell_type": "markdown",
      "metadata": {
        "id": "1aFA3M2VwWfN",
        "colab_type": "text"
      },
      "source": [
        "愛知のデータ"
      ]
    },
    {
      "cell_type": "code",
      "metadata": {
        "id": "Nj6xfUBzrT4F",
        "colab_type": "code",
        "outputId": "eb2d3790-6ce5-498d-d4d2-10ec020f1c99",
        "colab": {
          "base_uri": "https://localhost:8080/",
          "height": 282
        }
      },
      "source": [
        "temp_data = aichi_data.groupby('Date Announced')['Status'].apply(len)\n",
        "plt.bar(temp_data.index, temp_data, linewidth=0)"
      ],
      "execution_count": 20,
      "outputs": [
        {
          "output_type": "execute_result",
          "data": {
            "text/plain": [
              "<BarContainer object of 37 artists>"
            ]
          },
          "metadata": {
            "tags": []
          },
          "execution_count": 20
        },
        {
          "output_type": "display_data",
          "data": {
            "image/png": "[encoded data removed]",
            "text/plain": [
              "<Figure size 432x288 with 1 Axes>"
            ]
          },
          "metadata": {
            "tags": []
          }
        }
      ]
    },
    {
      "cell_type": "markdown",
      "metadata": {
        "id": "gcMbKXNRXRMG",
        "colab_type": "text"
      },
      "source": [
        "# References\n",
        "\n",
        "- https://www.kaggle.com/imdevskp/covid-19-analysis-viz-prediction-comparisons\n",
        "- https://pythondatascience.plavox.info/matplotlib/%E6%A3%92%E3%82%B0%E3%83%A9%E3%83%95"
      ]
    }
  ]
}