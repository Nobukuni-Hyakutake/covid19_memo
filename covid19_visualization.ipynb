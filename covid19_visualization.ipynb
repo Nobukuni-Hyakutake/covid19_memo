{
  "nbformat": 4,
  "nbformat_minor": 0,
  "metadata": {
    "colab": {
      "name": "covid19_visualization.ipynb",
      "provenance": [],
      "collapsed_sections": [],
      "authorship_tag": "ABX9TyMi+dk4mqCHZ2pkBeOUQK5W",
      "include_colab_link": true
    },
    "kernelspec": {
      "name": "python3",
      "display_name": "Python 3"
    }
  },
  "cells": [
    {
      "cell_type": "markdown",
      "metadata": {
        "id": "view-in-github",
        "colab_type": "text"
      },
      "source": [
        "<a href=\"https://colab.research.google.com/github/karaage0703/covid19_memo/blob/master/covid19_visualization.ipynb\" target=\"_parent\"><img src=\"https://colab.research.google.com/assets/colab-badge.svg\" alt=\"Open In Colab\"/></a>"
      ]
    },
    {
      "cell_type": "markdown",
      "metadata": {
        "id": "kyEcePvJnKQC",
        "colab_type": "text"
      },
      "source": [
        "# 新型コロナウイルスの感染状況を分析するためのノートブック\n",
        "\n",
        "データを可視化するために、個人的に作成しているものです。\n",
        "\n",
        "内容の正確性を保証するものではありませんので、ご注意下さい。\n",
        "\n",
        "\n",
        "以下リポジトリでPR受付中です。\n",
        "\n",
        "https://github.com/karaage0703/covid19_memo\n",
        "\n",
        "# 変更履歴\n",
        "- 2020/03/07 13:42 データ更新"
      ]
    },
    {
      "cell_type": "markdown",
      "metadata": {
        "id": "s7hzVmGPSjXw",
        "colab_type": "text"
      },
      "source": [
        "## データのダウンロード\n",
        "\n",
        "以下のオープンデータを使用（Google Spread Sheet)\n",
        "\n",
        "https://docs.google.com/spreadsheets/d/1jfB4muWkzKTR0daklmf8D5F0Uf_IYAgcx_-Ij9McClQ/edit#gid=0"
      ]
    },
    {
      "cell_type": "code",
      "metadata": {
        "id": "FoiN5oK2dCr9",
        "colab_type": "code",
        "outputId": "9b858434-0573-4851-aaaf-b66b19d83118",
        "colab": {
          "base_uri": "https://localhost:8080/",
          "height": 204
        }
      },
      "source": [
        "!wget --no-check-certificate --output-document=covid19jp.csv 'https://docs.google.com/spreadsheets/d/1jfB4muWkzKTR0daklmf8D5F0Uf_IYAgcx_-Ij9McClQ/export?gid=0&format=csv'"
      ],
      "execution_count": 1,
      "outputs": [
        {
          "output_type": "stream",
          "text": [
            "--2020-03-07 04:42:54--  https://docs.google.com/spreadsheets/d/1jfB4muWkzKTR0daklmf8D5F0Uf_IYAgcx_-Ij9McClQ/export?gid=0&format=csv\n",
            "Resolving docs.google.com (docs.google.com)... 173.194.217.139, 173.194.217.100, 173.194.217.101, ...\n",
            "Connecting to docs.google.com (docs.google.com)|173.194.217.139|:443... connected.\n",
            "HTTP request sent, awaiting response... 200 OK\n",
            "Length: unspecified [text/csv]\n",
            "Saving to: ‘covid19jp.csv’\n",
            "\n",
            "\rcovid19jp.csv           [<=>                 ]       0  --.-KB/s               \rcovid19jp.csv           [ <=>                ]  75.03K  --.-KB/s    in 0.006s  \n",
            "\n",
            "2020-03-07 04:42:55 (12.2 MB/s) - ‘covid19jp.csv’ saved [76835]\n",
            "\n"
          ],
          "name": "stdout"
        }
      ]
    },
    {
      "cell_type": "markdown",
      "metadata": {
        "id": "RBp_5B4IS2U9",
        "colab_type": "text"
      },
      "source": [
        "## データ読み込みと確認\n",
        "\n",
        "データをpandasを使って読み込み、内容を確認する"
      ]
    },
    {
      "cell_type": "markdown",
      "metadata": {
        "id": "P6AwUMwuTFSn",
        "colab_type": "text"
      },
      "source": [
        "pandasで読み込む"
      ]
    },
    {
      "cell_type": "code",
      "metadata": {
        "id": "p4GoqhV8mvQR",
        "colab_type": "code",
        "colab": {}
      },
      "source": [
        "import pandas as pd\n",
        "data = pd.read_csv('covid19jp.csv')"
      ],
      "execution_count": 0,
      "outputs": []
    },
    {
      "cell_type": "markdown",
      "metadata": {
        "id": "gP7eouzZVAPM",
        "colab_type": "text"
      },
      "source": [
        "データが読み込めているか確認"
      ]
    },
    {
      "cell_type": "code",
      "metadata": {
        "id": "NCz4S1HeTAif",
        "colab_type": "code",
        "outputId": "c938af27-825b-43fe-fe72-336222f51fd3",
        "colab": {
          "base_uri": "https://localhost:8080/",
          "height": 411
        }
      },
      "source": [
        "data.head()"
      ],
      "execution_count": 3,
      "outputs": [
        {
          "output_type": "execute_result",
          "data": {
            "text/html": [
              "<div>\n",
              "<style scoped>\n",
              "    .dataframe tbody tr th:only-of-type {\n",
              "        vertical-align: middle;\n",
              "    }\n",
              "\n",
              "    .dataframe tbody tr th {\n",
              "        vertical-align: top;\n",
              "    }\n",
              "\n",
              "    .dataframe thead th {\n",
              "        text-align: right;\n",
              "    }\n",
              "</style>\n",
              "<table border=\"1\" class=\"dataframe\">\n",
              "  <thead>\n",
              "    <tr style=\"text-align: right;\">\n",
              "      <th></th>\n",
              "      <th>Patient Number</th>\n",
              "      <th>Date Announced</th>\n",
              "      <th>Date Added</th>\n",
              "      <th>Age Bracket</th>\n",
              "      <th>Gender</th>\n",
              "      <th>Residence City, Prefecture</th>\n",
              "      <th>Detected City</th>\n",
              "      <th>Detected Prefecture</th>\n",
              "      <th>Status</th>\n",
              "      <th>Click Here For Sheet Information</th>\n",
              "      <th>Notes</th>\n",
              "      <th>Source(s)</th>\n",
              "      <th>Related Patients</th>\n",
              "      <th>MHLW (New) Patient Number</th>\n",
              "      <th>MHLW (Orig) Patient Number</th>\n",
              "      <th>Hokkaido Patient Number</th>\n",
              "      <th>Tokyo Patient Number</th>\n",
              "      <th>Osaka Patient Number</th>\n",
              "      <th>Charter Flight Passenger</th>\n",
              "      <th>Cruise Passenger (Disembarked)</th>\n",
              "      <th>Cruise Passenger (Infected Onboard)</th>\n",
              "      <th>Cruise Quarantine Officer</th>\n",
              "    </tr>\n",
              "  </thead>\n",
              "  <tbody>\n",
              "    <tr>\n",
              "      <th>0</th>\n",
              "      <td>1.0</td>\n",
              "      <td>2020-01-30</td>\n",
              "      <td>2020-01-30</td>\n",
              "      <td>50</td>\n",
              "      <td>M</td>\n",
              "      <td>Wuhan, China</td>\n",
              "      <td>NaN</td>\n",
              "      <td>Unspecified</td>\n",
              "      <td>Discharged</td>\n",
              "      <td>NaN</td>\n",
              "      <td>Japanese lives in China</td>\n",
              "      <td>https://www.mhlw.go.jp/stf/newpage_09531.html</td>\n",
              "      <td>NaN</td>\n",
              "      <td>NaN</td>\n",
              "      <td>9.0</td>\n",
              "      <td>NaN</td>\n",
              "      <td>NaN</td>\n",
              "      <td>NaN</td>\n",
              "      <td>1.0</td>\n",
              "      <td>NaN</td>\n",
              "      <td>NaN</td>\n",
              "      <td>NaN</td>\n",
              "    </tr>\n",
              "    <tr>\n",
              "      <th>1</th>\n",
              "      <td>2.0</td>\n",
              "      <td>2020-02-01</td>\n",
              "      <td>2020-02-01</td>\n",
              "      <td>40</td>\n",
              "      <td>M</td>\n",
              "      <td>Unspecified</td>\n",
              "      <td>NaN</td>\n",
              "      <td>Unspecified</td>\n",
              "      <td>Discharged</td>\n",
              "      <td>NaN</td>\n",
              "      <td>NaN</td>\n",
              "      <td>https://www.mhlw.go.jp/stf/newpage_09531.html</td>\n",
              "      <td>3</td>\n",
              "      <td>NaN</td>\n",
              "      <td>14.0</td>\n",
              "      <td>NaN</td>\n",
              "      <td>NaN</td>\n",
              "      <td>NaN</td>\n",
              "      <td>1.0</td>\n",
              "      <td>NaN</td>\n",
              "      <td>NaN</td>\n",
              "      <td>NaN</td>\n",
              "    </tr>\n",
              "    <tr>\n",
              "      <th>2</th>\n",
              "      <td>3.0</td>\n",
              "      <td>2020-02-01</td>\n",
              "      <td>2020-02-01</td>\n",
              "      <td>40</td>\n",
              "      <td>M</td>\n",
              "      <td>China</td>\n",
              "      <td>NaN</td>\n",
              "      <td>Unspecified</td>\n",
              "      <td>Discharged</td>\n",
              "      <td>NaN</td>\n",
              "      <td>Japanese lives in China</td>\n",
              "      <td>https://www.mhlw.go.jp/stf/newpage_09531.html</td>\n",
              "      <td>2</td>\n",
              "      <td>NaN</td>\n",
              "      <td>15.0</td>\n",
              "      <td>NaN</td>\n",
              "      <td>NaN</td>\n",
              "      <td>NaN</td>\n",
              "      <td>1.0</td>\n",
              "      <td>NaN</td>\n",
              "      <td>NaN</td>\n",
              "      <td>NaN</td>\n",
              "    </tr>\n",
              "    <tr>\n",
              "      <th>3</th>\n",
              "      <td>4.0</td>\n",
              "      <td>2020-02-01</td>\n",
              "      <td>2020-02-01</td>\n",
              "      <td>40</td>\n",
              "      <td>M</td>\n",
              "      <td>Wuhan, China</td>\n",
              "      <td>NaN</td>\n",
              "      <td>Unspecified</td>\n",
              "      <td>Discharged</td>\n",
              "      <td>NaN</td>\n",
              "      <td>Japanese lives in China</td>\n",
              "      <td>https://www.mhlw.go.jp/stf/newpage_09531.html</td>\n",
              "      <td>NaN</td>\n",
              "      <td>NaN</td>\n",
              "      <td>16.0</td>\n",
              "      <td>NaN</td>\n",
              "      <td>NaN</td>\n",
              "      <td>NaN</td>\n",
              "      <td>1.0</td>\n",
              "      <td>NaN</td>\n",
              "      <td>NaN</td>\n",
              "      <td>NaN</td>\n",
              "    </tr>\n",
              "    <tr>\n",
              "      <th>4</th>\n",
              "      <td>5.0</td>\n",
              "      <td>2020-02-04</td>\n",
              "      <td>2020-02-04</td>\n",
              "      <td>50</td>\n",
              "      <td>F</td>\n",
              "      <td>Chiba</td>\n",
              "      <td>NaN</td>\n",
              "      <td>Unspecified</td>\n",
              "      <td>Discharged</td>\n",
              "      <td>NaN</td>\n",
              "      <td>NaN</td>\n",
              "      <td>https://www.mhlw.go.jp/stf/newpage_09531.html</td>\n",
              "      <td>NaN</td>\n",
              "      <td>NaN</td>\n",
              "      <td>18.0</td>\n",
              "      <td>NaN</td>\n",
              "      <td>NaN</td>\n",
              "      <td>NaN</td>\n",
              "      <td>1.0</td>\n",
              "      <td>NaN</td>\n",
              "      <td>NaN</td>\n",
              "      <td>NaN</td>\n",
              "    </tr>\n",
              "  </tbody>\n",
              "</table>\n",
              "</div>"
            ],
            "text/plain": [
              "   Patient Number  ... Cruise Quarantine Officer\n",
              "0             1.0  ...                       NaN\n",
              "1             2.0  ...                       NaN\n",
              "2             3.0  ...                       NaN\n",
              "3             4.0  ...                       NaN\n",
              "4             5.0  ...                       NaN\n",
              "\n",
              "[5 rows x 22 columns]"
            ]
          },
          "metadata": {
            "tags": []
          },
          "execution_count": 3
        }
      ]
    },
    {
      "cell_type": "markdown",
      "metadata": {
        "id": "BFZR52wlpRpH",
        "colab_type": "text"
      },
      "source": [
        "データのチェック"
      ]
    },
    {
      "cell_type": "code",
      "metadata": {
        "id": "GavWgrnYpOSL",
        "colab_type": "code",
        "outputId": "1198e84f-20fe-44ca-dfad-1e6ced8f6d1c",
        "colab": {
          "base_uri": "https://localhost:8080/",
          "height": 476
        }
      },
      "source": [
        "data.info()"
      ],
      "execution_count": 4,
      "outputs": [
        {
          "output_type": "stream",
          "text": [
            "<class 'pandas.core.frame.DataFrame'>\n",
            "RangeIndex: 419 entries, 0 to 418\n",
            "Data columns (total 22 columns):\n",
            "Patient Number                         411 non-null float64\n",
            "Date Announced                         416 non-null object\n",
            "Date Added                             416 non-null object\n",
            "Age Bracket                            401 non-null object\n",
            "Gender                                 403 non-null object\n",
            "Residence City, Prefecture             359 non-null object\n",
            "Detected City                          265 non-null object\n",
            "Detected Prefecture                    415 non-null object\n",
            "Status                                 172 non-null object\n",
            "Click Here For Sheet Information       1 non-null object\n",
            "Notes                                  239 non-null object\n",
            "Source(s)                              390 non-null object\n",
            "Related Patients                       92 non-null object\n",
            "MHLW (New) Patient Number              237 non-null object\n",
            "MHLW (Orig) Patient Number             312 non-null float64\n",
            "Hokkaido Patient Number                82 non-null float64\n",
            "Tokyo Patient Number                   30 non-null float64\n",
            "Osaka Patient Number                   13 non-null float64\n",
            "Charter Flight Passenger               14 non-null float64\n",
            "Cruise Passenger (Disembarked)         8 non-null float64\n",
            "Cruise Passenger (Infected Onboard)    5 non-null float64\n",
            "Cruise Quarantine Officer              10 non-null float64\n",
            "dtypes: float64(9), object(13)\n",
            "memory usage: 72.1+ KB\n"
          ],
          "name": "stdout"
        }
      ]
    },
    {
      "cell_type": "markdown",
      "metadata": {
        "id": "Mc5ZkQMJpVwz",
        "colab_type": "text"
      },
      "source": [
        "欠損値のチェック"
      ]
    },
    {
      "cell_type": "code",
      "metadata": {
        "id": "8PvQZBG_pO1d",
        "colab_type": "code",
        "outputId": "65044e8b-6bcd-4509-b76a-07260c75f788",
        "colab": {
          "base_uri": "https://localhost:8080/",
          "height": 408
        }
      },
      "source": [
        "data.isna().sum()"
      ],
      "execution_count": 5,
      "outputs": [
        {
          "output_type": "execute_result",
          "data": {
            "text/plain": [
              "Patient Number                           8\n",
              "Date Announced                           3\n",
              "Date Added                               3\n",
              "Age Bracket                             18\n",
              "Gender                                  16\n",
              "Residence City, Prefecture              60\n",
              "Detected City                          154\n",
              "Detected Prefecture                      4\n",
              "Status                                 247\n",
              "Click Here For Sheet Information       418\n",
              "Notes                                  180\n",
              "Source(s)                               29\n",
              "Related Patients                       327\n",
              "MHLW (New) Patient Number              182\n",
              "MHLW (Orig) Patient Number             107\n",
              "Hokkaido Patient Number                337\n",
              "Tokyo Patient Number                   389\n",
              "Osaka Patient Number                   406\n",
              "Charter Flight Passenger               405\n",
              "Cruise Passenger (Disembarked)         411\n",
              "Cruise Passenger (Infected Onboard)    414\n",
              "Cruise Quarantine Officer              409\n",
              "dtype: int64"
            ]
          },
          "metadata": {
            "tags": []
          },
          "execution_count": 5
        }
      ]
    },
    {
      "cell_type": "markdown",
      "metadata": {
        "id": "oDFY7S2CVEbv",
        "colab_type": "text"
      },
      "source": [
        "愛知県に住んでいる人を抽出"
      ]
    },
    {
      "cell_type": "code",
      "metadata": {
        "id": "oI3x8-3zm-9v",
        "colab_type": "code",
        "outputId": "c7dc24a0-1f2c-4a56-bbf3-84c2a5e5231e",
        "colab": {
          "base_uri": "https://localhost:8080/",
          "height": 360
        }
      },
      "source": [
        "aichi_data = data[(data['Detected Prefecture'] == 'Aichi')]\n",
        "aichi_data.head()"
      ],
      "execution_count": 6,
      "outputs": [
        {
          "output_type": "execute_result",
          "data": {
            "text/html": [
              "<div>\n",
              "<style scoped>\n",
              "    .dataframe tbody tr th:only-of-type {\n",
              "        vertical-align: middle;\n",
              "    }\n",
              "\n",
              "    .dataframe tbody tr th {\n",
              "        vertical-align: top;\n",
              "    }\n",
              "\n",
              "    .dataframe thead th {\n",
              "        text-align: right;\n",
              "    }\n",
              "</style>\n",
              "<table border=\"1\" class=\"dataframe\">\n",
              "  <thead>\n",
              "    <tr style=\"text-align: right;\">\n",
              "      <th></th>\n",
              "      <th>Patient Number</th>\n",
              "      <th>Date Announced</th>\n",
              "      <th>Date Added</th>\n",
              "      <th>Age Bracket</th>\n",
              "      <th>Gender</th>\n",
              "      <th>Residence City, Prefecture</th>\n",
              "      <th>Detected City</th>\n",
              "      <th>Detected Prefecture</th>\n",
              "      <th>Status</th>\n",
              "      <th>Click Here For Sheet Information</th>\n",
              "      <th>Notes</th>\n",
              "      <th>Source(s)</th>\n",
              "      <th>Related Patients</th>\n",
              "      <th>MHLW (New) Patient Number</th>\n",
              "      <th>MHLW (Orig) Patient Number</th>\n",
              "      <th>Hokkaido Patient Number</th>\n",
              "      <th>Tokyo Patient Number</th>\n",
              "      <th>Osaka Patient Number</th>\n",
              "      <th>Charter Flight Passenger</th>\n",
              "      <th>Cruise Passenger (Disembarked)</th>\n",
              "      <th>Cruise Passenger (Infected Onboard)</th>\n",
              "      <th>Cruise Quarantine Officer</th>\n",
              "    </tr>\n",
              "  </thead>\n",
              "  <tbody>\n",
              "    <tr>\n",
              "      <th>17</th>\n",
              "      <td>18.0</td>\n",
              "      <td>2020-01-26</td>\n",
              "      <td>2020-01-26</td>\n",
              "      <td>40</td>\n",
              "      <td>M</td>\n",
              "      <td>Wuhan, China</td>\n",
              "      <td>NaN</td>\n",
              "      <td>Aichi</td>\n",
              "      <td>NaN</td>\n",
              "      <td>NaN</td>\n",
              "      <td>Chinese traveler</td>\n",
              "      <td>https://www.mhlw.go.jp/stf/newpage_09531.html</td>\n",
              "      <td>28</td>\n",
              "      <td>4</td>\n",
              "      <td>4.0</td>\n",
              "      <td>NaN</td>\n",
              "      <td>NaN</td>\n",
              "      <td>NaN</td>\n",
              "      <td>NaN</td>\n",
              "      <td>NaN</td>\n",
              "      <td>NaN</td>\n",
              "      <td>NaN</td>\n",
              "    </tr>\n",
              "    <tr>\n",
              "      <th>18</th>\n",
              "      <td>19.0</td>\n",
              "      <td>2020-01-28</td>\n",
              "      <td>2020-01-28</td>\n",
              "      <td>40</td>\n",
              "      <td>M</td>\n",
              "      <td>Wuhan, China</td>\n",
              "      <td>NaN</td>\n",
              "      <td>Aichi</td>\n",
              "      <td>Hospitalized</td>\n",
              "      <td>NaN</td>\n",
              "      <td>Chinese traveler</td>\n",
              "      <td>https://www.mhlw.go.jp/stf/newpage_09531.html</td>\n",
              "      <td>NaN</td>\n",
              "      <td>5</td>\n",
              "      <td>5.0</td>\n",
              "      <td>NaN</td>\n",
              "      <td>NaN</td>\n",
              "      <td>NaN</td>\n",
              "      <td>NaN</td>\n",
              "      <td>NaN</td>\n",
              "      <td>NaN</td>\n",
              "      <td>NaN</td>\n",
              "    </tr>\n",
              "    <tr>\n",
              "      <th>39</th>\n",
              "      <td>40.0</td>\n",
              "      <td>2020-02-14</td>\n",
              "      <td>2020-02-14</td>\n",
              "      <td>60</td>\n",
              "      <td>M</td>\n",
              "      <td>Nagoya, Aichi</td>\n",
              "      <td>NaN</td>\n",
              "      <td>Aichi</td>\n",
              "      <td>NaN</td>\n",
              "      <td>NaN</td>\n",
              "      <td>NaN</td>\n",
              "      <td>https://www.mhlw.go.jp/stf/newpage_09539.html</td>\n",
              "      <td>NaN</td>\n",
              "      <td>26</td>\n",
              "      <td>35.0</td>\n",
              "      <td>NaN</td>\n",
              "      <td>NaN</td>\n",
              "      <td>NaN</td>\n",
              "      <td>NaN</td>\n",
              "      <td>NaN</td>\n",
              "      <td>NaN</td>\n",
              "      <td>NaN</td>\n",
              "    </tr>\n",
              "    <tr>\n",
              "      <th>47</th>\n",
              "      <td>48.0</td>\n",
              "      <td>2020-02-15</td>\n",
              "      <td>2020-02-15</td>\n",
              "      <td>60</td>\n",
              "      <td>F</td>\n",
              "      <td>Aichi</td>\n",
              "      <td>Nagoya</td>\n",
              "      <td>Aichi</td>\n",
              "      <td>NaN</td>\n",
              "      <td>NaN</td>\n",
              "      <td>NaN</td>\n",
              "      <td>https://www.mhlw.go.jp/stf/newpage_09545.html</td>\n",
              "      <td>35</td>\n",
              "      <td>34</td>\n",
              "      <td>43.0</td>\n",
              "      <td>NaN</td>\n",
              "      <td>NaN</td>\n",
              "      <td>NaN</td>\n",
              "      <td>NaN</td>\n",
              "      <td>NaN</td>\n",
              "      <td>NaN</td>\n",
              "      <td>NaN</td>\n",
              "    </tr>\n",
              "    <tr>\n",
              "      <th>48</th>\n",
              "      <td>49.0</td>\n",
              "      <td>2020-02-16</td>\n",
              "      <td>2020-02-16</td>\n",
              "      <td>60</td>\n",
              "      <td>M</td>\n",
              "      <td>Aichi</td>\n",
              "      <td>NaN</td>\n",
              "      <td>Aichi</td>\n",
              "      <td>NaN</td>\n",
              "      <td>NaN</td>\n",
              "      <td>NaN</td>\n",
              "      <td>https://www.mhlw.go.jp/content/10906000/000596...</td>\n",
              "      <td>42</td>\n",
              "      <td>35</td>\n",
              "      <td>44.0</td>\n",
              "      <td>NaN</td>\n",
              "      <td>NaN</td>\n",
              "      <td>NaN</td>\n",
              "      <td>NaN</td>\n",
              "      <td>NaN</td>\n",
              "      <td>NaN</td>\n",
              "      <td>NaN</td>\n",
              "    </tr>\n",
              "  </tbody>\n",
              "</table>\n",
              "</div>"
            ],
            "text/plain": [
              "    Patient Number  ... Cruise Quarantine Officer\n",
              "17            18.0  ...                       NaN\n",
              "18            19.0  ...                       NaN\n",
              "39            40.0  ...                       NaN\n",
              "47            48.0  ...                       NaN\n",
              "48            49.0  ...                       NaN\n",
              "\n",
              "[5 rows x 22 columns]"
            ]
          },
          "metadata": {
            "tags": []
          },
          "execution_count": 6
        }
      ]
    },
    {
      "cell_type": "markdown",
      "metadata": {
        "id": "Jn8kkdZhW_3Z",
        "colab_type": "text"
      },
      "source": [
        "データのチェック"
      ]
    },
    {
      "cell_type": "code",
      "metadata": {
        "id": "Wr4BuU2KW6Mz",
        "colab_type": "code",
        "outputId": "bf6b80b8-aa86-495b-e73b-5fa7d4a5d9fc",
        "colab": {
          "base_uri": "https://localhost:8080/",
          "height": 476
        }
      },
      "source": [
        "aichi_data.info()"
      ],
      "execution_count": 7,
      "outputs": [
        {
          "output_type": "stream",
          "text": [
            "<class 'pandas.core.frame.DataFrame'>\n",
            "Int64Index: 63 entries, 17 to 386\n",
            "Data columns (total 22 columns):\n",
            "Patient Number                         63 non-null float64\n",
            "Date Announced                         63 non-null object\n",
            "Date Added                             63 non-null object\n",
            "Age Bracket                            63 non-null object\n",
            "Gender                                 63 non-null object\n",
            "Residence City, Prefecture             61 non-null object\n",
            "Detected City                          52 non-null object\n",
            "Detected Prefecture                    63 non-null object\n",
            "Status                                 14 non-null object\n",
            "Click Here For Sheet Information       0 non-null object\n",
            "Notes                                  10 non-null object\n",
            "Source(s)                              59 non-null object\n",
            "Related Patients                       19 non-null object\n",
            "MHLW (New) Patient Number              32 non-null object\n",
            "MHLW (Orig) Patient Number             51 non-null float64\n",
            "Hokkaido Patient Number                0 non-null float64\n",
            "Tokyo Patient Number                   0 non-null float64\n",
            "Osaka Patient Number                   0 non-null float64\n",
            "Charter Flight Passenger               0 non-null float64\n",
            "Cruise Passenger (Disembarked)         0 non-null float64\n",
            "Cruise Passenger (Infected Onboard)    0 non-null float64\n",
            "Cruise Quarantine Officer              0 non-null float64\n",
            "dtypes: float64(9), object(13)\n",
            "memory usage: 11.3+ KB\n"
          ],
          "name": "stdout"
        }
      ]
    },
    {
      "cell_type": "markdown",
      "metadata": {
        "id": "GlGW3hb3XBa_",
        "colab_type": "text"
      },
      "source": [
        "欠損値のチェック"
      ]
    },
    {
      "cell_type": "code",
      "metadata": {
        "id": "55rHfQybXFFT",
        "colab_type": "code",
        "outputId": "7824cf14-2f16-4f23-a761-839a48781177",
        "colab": {
          "base_uri": "https://localhost:8080/",
          "height": 408
        }
      },
      "source": [
        "aichi_data.isna().sum()"
      ],
      "execution_count": 8,
      "outputs": [
        {
          "output_type": "execute_result",
          "data": {
            "text/plain": [
              "Patient Number                          0\n",
              "Date Announced                          0\n",
              "Date Added                              0\n",
              "Age Bracket                             0\n",
              "Gender                                  0\n",
              "Residence City, Prefecture              2\n",
              "Detected City                          11\n",
              "Detected Prefecture                     0\n",
              "Status                                 49\n",
              "Click Here For Sheet Information       63\n",
              "Notes                                  53\n",
              "Source(s)                               4\n",
              "Related Patients                       44\n",
              "MHLW (New) Patient Number              31\n",
              "MHLW (Orig) Patient Number             12\n",
              "Hokkaido Patient Number                63\n",
              "Tokyo Patient Number                   63\n",
              "Osaka Patient Number                   63\n",
              "Charter Flight Passenger               63\n",
              "Cruise Passenger (Disembarked)         63\n",
              "Cruise Passenger (Infected Onboard)    63\n",
              "Cruise Quarantine Officer              63\n",
              "dtype: int64"
            ]
          },
          "metadata": {
            "tags": []
          },
          "execution_count": 8
        }
      ]
    },
    {
      "cell_type": "markdown",
      "metadata": {
        "id": "WS9ybEd5jHQr",
        "colab_type": "text"
      },
      "source": [
        "## 感染者数の分析\n",
        "### 準備\n",
        "\n",
        "matplotlibをインポート\n",
        "\n",
        "\n",
        "\n",
        "\n"
      ]
    },
    {
      "cell_type": "code",
      "metadata": {
        "id": "qRu7D9ABoX6x",
        "colab_type": "code",
        "colab": {}
      },
      "source": [
        "import matplotlib.pyplot as plt"
      ],
      "execution_count": 0,
      "outputs": []
    },
    {
      "cell_type": "markdown",
      "metadata": {
        "id": "eL5uuBzJoZTR",
        "colab_type": "text"
      },
      "source": [
        "### 年齢別のヒストグラム"
      ]
    },
    {
      "cell_type": "markdown",
      "metadata": {
        "id": "C8fhLl-uofRq",
        "colab_type": "text"
      },
      "source": [
        "- データを読み込む\n",
        "- 欠損値を除去\n",
        "- int型に変換\n",
        "- ヒストグラムの表示"
      ]
    },
    {
      "cell_type": "markdown",
      "metadata": {
        "id": "xVSeiKFgTmBM",
        "colab_type": "text"
      },
      "source": [
        "全国のデータ"
      ]
    },
    {
      "cell_type": "code",
      "metadata": {
        "id": "zEp-SuRojPCH",
        "colab_type": "code",
        "outputId": "49eb1210-b497-49f3-bbf7-b1090bb3c3c6",
        "colab": {
          "base_uri": "https://localhost:8080/",
          "height": 282
        }
      },
      "source": [
        "temp_data = data['Age Bracket']\n",
        "temp_data = temp_data.replace(['Unspecified', 'NaN'])\n",
        "temp_data = temp_data.dropna(how='all')\n",
        "temp_data = temp_data.astype('int64')\n",
        "temp_data.hist()"
      ],
      "execution_count": 10,
      "outputs": [
        {
          "output_type": "execute_result",
          "data": {
            "text/plain": [
              "<matplotlib.axes._subplots.AxesSubplot at 0x7f100fa75fd0>"
            ]
          },
          "metadata": {
            "tags": []
          },
          "execution_count": 10
        },
        {
          "output_type": "display_data",
          "data": {
            "image/png": "[encoded data removed]",
            "text/plain": [
              "<Figure size 432x288 with 1 Axes>"
            ]
          },
          "metadata": {
            "tags": []
          }
        }
      ]
    },
    {
      "cell_type": "markdown",
      "metadata": {
        "id": "K56ojAnhnbqH",
        "colab_type": "text"
      },
      "source": [
        "愛知のデータ"
      ]
    },
    {
      "cell_type": "code",
      "metadata": {
        "id": "xeixtdY8ndIr",
        "colab_type": "code",
        "outputId": "fd788746-d232-4ed3-c347-7ff8799b4703",
        "colab": {
          "base_uri": "https://localhost:8080/",
          "height": 282
        }
      },
      "source": [
        "temp_data = aichi_data['Age Bracket']\n",
        "temp_data = temp_data.replace(['Unspecified', 'NaN'])\n",
        "temp_data = temp_data.dropna(how='all')\n",
        "temp_data = temp_data.astype('int64')\n",
        "temp_data.hist()"
      ],
      "execution_count": 11,
      "outputs": [
        {
          "output_type": "execute_result",
          "data": {
            "text/plain": [
              "<matplotlib.axes._subplots.AxesSubplot at 0x7f100f9f8a90>"
            ]
          },
          "metadata": {
            "tags": []
          },
          "execution_count": 11
        },
        {
          "output_type": "display_data",
          "data": {
            "image/png": "[encoded data removed]",
            "text/plain": [
              "<Figure size 432x288 with 1 Axes>"
            ]
          },
          "metadata": {
            "tags": []
          }
        }
      ]
    },
    {
      "cell_type": "markdown",
      "metadata": {
        "id": "JVPWj_9XoF57",
        "colab_type": "text"
      },
      "source": [
        "### 性別の割合"
      ]
    },
    {
      "cell_type": "markdown",
      "metadata": {
        "id": "tZMwzzijo0Xe",
        "colab_type": "text"
      },
      "source": [
        "全国のデータ"
      ]
    },
    {
      "cell_type": "code",
      "metadata": {
        "id": "W7b_WtnUlYJt",
        "colab_type": "code",
        "outputId": "a43a0a6e-3981-4ccd-cb0e-c90145648886",
        "colab": {
          "base_uri": "https://localhost:8080/",
          "height": 282
        }
      },
      "source": [
        "temp_data = data['Gender']\n",
        "temp_data = temp_data.dropna(how='all')\n",
        "temp_data.hist()"
      ],
      "execution_count": 12,
      "outputs": [
        {
          "output_type": "execute_result",
          "data": {
            "text/plain": [
              "<matplotlib.axes._subplots.AxesSubplot at 0x7f100fa75668>"
            ]
          },
          "metadata": {
            "tags": []
          },
          "execution_count": 12
        },
        {
          "output_type": "display_data",
          "data": {
            "image/png": "[encoded data removed]",
            "text/plain": [
              "<Figure size 432x288 with 1 Axes>"
            ]
          },
          "metadata": {
            "tags": []
          }
        }
      ]
    },
    {
      "cell_type": "markdown",
      "metadata": {
        "id": "vp2fYmGxoJUm",
        "colab_type": "text"
      },
      "source": [
        "愛知のデータ"
      ]
    },
    {
      "cell_type": "code",
      "metadata": {
        "id": "lSJYOLRhoH3b",
        "colab_type": "code",
        "outputId": "5a86d5ea-255a-4969-ca52-30015cea0a6a",
        "colab": {
          "base_uri": "https://localhost:8080/",
          "height": 282
        }
      },
      "source": [
        "temp_data = aichi_data['Gender']\n",
        "temp_data = temp_data.dropna(how='all')\n",
        "temp_data.hist()"
      ],
      "execution_count": 13,
      "outputs": [
        {
          "output_type": "execute_result",
          "data": {
            "text/plain": [
              "<matplotlib.axes._subplots.AxesSubplot at 0x7f100f4777b8>"
            ]
          },
          "metadata": {
            "tags": []
          },
          "execution_count": 13
        },
        {
          "output_type": "display_data",
          "data": {
            "image/png": "[encoded data removed]",
            "text/plain": [
              "<Figure size 432x288 with 1 Axes>"
            ]
          },
          "metadata": {
            "tags": []
          }
        }
      ]
    },
    {
      "cell_type": "markdown",
      "metadata": {
        "id": "T201Hi-ArRWS",
        "colab_type": "text"
      },
      "source": [
        "#### 陽性患者数（1日当たりの増加数）\n",
        "全国のデータ"
      ]
    },
    {
      "cell_type": "code",
      "metadata": {
        "id": "_BiRye-pvzv4",
        "colab_type": "code",
        "outputId": "73676d08-6f08-4841-e461-5992968ab39e",
        "colab": {
          "base_uri": "https://localhost:8080/",
          "height": 282
        }
      },
      "source": [
        "temp_data = data.groupby('Date Announced')['Status'].apply(len)\n",
        "plt.bar(temp_data.index, temp_data, linewidth=0)"
      ],
      "execution_count": 14,
      "outputs": [
        {
          "output_type": "execute_result",
          "data": {
            "text/plain": [
              "<BarContainer object of 40 artists>"
            ]
          },
          "metadata": {
            "tags": []
          },
          "execution_count": 14
        },
        {
          "output_type": "display_data",
          "data": {
            "image/png": "[encoded data removed]",
            "text/plain": [
              "<Figure size 432x288 with 1 Axes>"
            ]
          },
          "metadata": {
            "tags": []
          }
        }
      ]
    },
    {
      "cell_type": "markdown",
      "metadata": {
        "id": "1aFA3M2VwWfN",
        "colab_type": "text"
      },
      "source": [
        "愛知のデータ"
      ]
    },
    {
      "cell_type": "code",
      "metadata": {
        "id": "Nj6xfUBzrT4F",
        "colab_type": "code",
        "outputId": "39145767-88d3-470f-828f-677724445754",
        "colab": {
          "base_uri": "https://localhost:8080/",
          "height": 282
        }
      },
      "source": [
        "temp_data = aichi_data.groupby('Date Announced')['Status'].apply(len)\n",
        "plt.bar(temp_data.index, temp_data, linewidth=0)"
      ],
      "execution_count": 15,
      "outputs": [
        {
          "output_type": "execute_result",
          "data": {
            "text/plain": [
              "<BarContainer object of 21 artists>"
            ]
          },
          "metadata": {
            "tags": []
          },
          "execution_count": 15
        },
        {
          "output_type": "display_data",
          "data": {
            "image/png": "[encoded data removed]",
            "text/plain": [
              "<Figure size 432x288 with 1 Axes>"
            ]
          },
          "metadata": {
            "tags": []
          }
        }
      ]
    },
    {
      "cell_type": "markdown",
      "metadata": {
        "id": "gcMbKXNRXRMG",
        "colab_type": "text"
      },
      "source": [
        "# References\n",
        "\n",
        "- https://www.kaggle.com/imdevskp/covid-19-analysis-viz-prediction-comparisons\n",
        "- https://pythondatascience.plavox.info/matplotlib/%E6%A3%92%E3%82%B0%E3%83%A9%E3%83%95"
      ]
    }
  ]
}