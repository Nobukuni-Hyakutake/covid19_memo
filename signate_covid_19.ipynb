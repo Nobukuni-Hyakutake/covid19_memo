{
  "nbformat": 4,
  "nbformat_minor": 0,
  "metadata": {
    "colab": {
      "name": "signate_covid-19.ipynb",
      "provenance": [],
      "collapsed_sections": [],
      "authorship_tag": "ABX9TyMHD4vS/SCUs01byqp7zUhT",
      "include_colab_link": true
    },
    "kernelspec": {
      "name": "python3",
      "display_name": "Python 3"
    }
  },
  "cells": [
    {
      "cell_type": "markdown",
      "metadata": {
        "id": "view-in-github",
        "colab_type": "text"
      },
      "source": [
        "<a href=\"https://colab.research.google.com/github/karaage0703/covid19_memo/blob/master/signate_covid_19.ipynb\" target=\"_parent\"><img src=\"https://colab.research.google.com/assets/colab-badge.svg\" alt=\"Open In Colab\"/></a>"
      ]
    },
    {
      "cell_type": "markdown",
      "metadata": {
        "id": "kyEcePvJnKQC",
        "colab_type": "text"
      },
      "source": [
        "# 新型コロナウイルスの感染状況を分析するためのノートブック\n",
        "\n",
        "データを可視化するために、個人的に作成しているものです。\n",
        "\n",
        "内容の正確性を保証するものではありませんので、ご注意下さい。\n",
        "\n",
        "\n",
        "以下リポジトリでPR受付中です。\n",
        "\n",
        "https://github.com/karaage0703/covid19_memo"
      ]
    },
    {
      "cell_type": "markdown",
      "metadata": {
        "id": "s7hzVmGPSjXw",
        "colab_type": "text"
      },
      "source": [
        "## データのダウンロード\n",
        "SIGNATEのCOVID-19チャレンジ（フェーズ1）で作成されたオープンデータ（Google Spread Sheet)を用いて分析\n",
        "\n",
        "https://signate.jp/competitions/260"
      ]
    },
    {
      "cell_type": "code",
      "metadata": {
        "id": "nrvGg9kkuPyH",
        "colab_type": "code",
        "outputId": "51aa0f55-7487-4c81-ba3a-ea80faa188f1",
        "colab": {
          "base_uri": "https://localhost:8080/",
          "height": 204
        }
      },
      "source": [
        "!wget --no-check-certificate --output-document=data.csv 'https://docs.google.com/spreadsheets/d/1CnQOf6eN18Kw5Q6ScE_9tFoyddk4FBwFZqZpt_tMOm4/export?gid=0&format=csv'"
      ],
      "execution_count": 0,
      "outputs": [
        {
          "output_type": "stream",
          "text": [
            "--2020-04-01 07:52:24--  https://docs.google.com/spreadsheets/d/1CnQOf6eN18Kw5Q6ScE_9tFoyddk4FBwFZqZpt_tMOm4/export?gid=0&format=csv\n",
            "Resolving docs.google.com (docs.google.com)... 108.177.125.100, 108.177.125.102, 108.177.125.101, ...\n",
            "Connecting to docs.google.com (docs.google.com)|108.177.125.100|:443... connected.\n",
            "HTTP request sent, awaiting response... 200 OK\n",
            "Length: unspecified [text/csv]\n",
            "Saving to: ‘data.csv’\n",
            "\n",
            "data.csv                [   <=>              ]   1.09M  1.96MB/s    in 0.6s    \n",
            "\n",
            "2020-04-01 07:52:31 (1.96 MB/s) - ‘data.csv’ saved [1139676]\n",
            "\n"
          ],
          "name": "stdout"
        }
      ]
    },
    {
      "cell_type": "markdown",
      "metadata": {
        "id": "RBp_5B4IS2U9",
        "colab_type": "text"
      },
      "source": [
        "## 死亡率と性別の関係\n",
        "\n",
        "SIGNATEのフォーラムの以下の分析例を、Google Colaboratoryで動作するように改変\n",
        "\n",
        "https://signate.jp/competitions/261/discussions/20200401125031-59"
      ]
    },
    {
      "cell_type": "markdown",
      "metadata": {
        "id": "gjF5LrQS6qLp",
        "colab_type": "text"
      },
      "source": [
        "データをpandasを使って読み込み、内容を確認する"
      ]
    },
    {
      "cell_type": "code",
      "metadata": {
        "id": "-utxZ8IJurWw",
        "colab_type": "code",
        "colab": {}
      },
      "source": [
        "import pandas as pd\n",
        "\n",
        "# SIGNATE COVID-2019 Dataset からデータを読み込み、ステータスと性別を抽出\n",
        "df = pd.read_csv(\"data.csv\")\n",
        "df = df[[\"ステータス\",\"性別\"]]\n",
        "\n",
        "# ステータスのフラグを変換\n",
        "df[\"ステータス\"] = df[\"ステータス\"].replace({0: '罹患中', 1: '回復', 2: '死亡'})\n",
        "\n",
        "f = lambda x: '{:.2%}'.format(x)"
      ],
      "execution_count": 0,
      "outputs": []
    },
    {
      "cell_type": "markdown",
      "metadata": {
        "id": "i3dRLi6k6TA7",
        "colab_type": "text"
      },
      "source": [
        "ステータス別の人数と割合"
      ]
    },
    {
      "cell_type": "code",
      "metadata": {
        "id": "mJEiXupiuy5D",
        "colab_type": "code",
        "outputId": "d2c0d6a5-e427-449a-9b1c-dcfa4a2a68bc",
        "colab": {
          "base_uri": "https://localhost:8080/",
          "height": 142
        }
      },
      "source": [
        "status_cnt = df[\"ステータス\"].value_counts()\n",
        "status_ratio = df[\"ステータス\"].value_counts(normalize=True).apply(f) \n",
        "\n",
        "status_table = pd.concat([status_cnt, status_ratio], axis=1)\n",
        "status_table.columns= [\"人数\",\"割合(%)\"]\n",
        "status_table"
      ],
      "execution_count": 0,
      "outputs": [
        {
          "output_type": "execute_result",
          "data": {
            "text/html": [
              "<div>\n",
              "<style scoped>\n",
              "    .dataframe tbody tr th:only-of-type {\n",
              "        vertical-align: middle;\n",
              "    }\n",
              "\n",
              "    .dataframe tbody tr th {\n",
              "        vertical-align: top;\n",
              "    }\n",
              "\n",
              "    .dataframe thead th {\n",
              "        text-align: right;\n",
              "    }\n",
              "</style>\n",
              "<table border=\"1\" class=\"dataframe\">\n",
              "  <thead>\n",
              "    <tr style=\"text-align: right;\">\n",
              "      <th></th>\n",
              "      <th>人数</th>\n",
              "      <th>割合(%)</th>\n",
              "    </tr>\n",
              "  </thead>\n",
              "  <tbody>\n",
              "    <tr>\n",
              "      <th>罹患中</th>\n",
              "      <td>1786</td>\n",
              "      <td>91.54%</td>\n",
              "    </tr>\n",
              "    <tr>\n",
              "      <th>回復</th>\n",
              "      <td>140</td>\n",
              "      <td>7.18%</td>\n",
              "    </tr>\n",
              "    <tr>\n",
              "      <th>死亡</th>\n",
              "      <td>25</td>\n",
              "      <td>1.28%</td>\n",
              "    </tr>\n",
              "  </tbody>\n",
              "</table>\n",
              "</div>"
            ],
            "text/plain": [
              "       人数   割合(%)\n",
              "罹患中  1786  91.54%\n",
              "回復    140   7.18%\n",
              "死亡     25   1.28%"
            ]
          },
          "metadata": {
            "tags": []
          },
          "execution_count": 7
        }
      ]
    },
    {
      "cell_type": "markdown",
      "metadata": {
        "id": "wPj4OOt46UDB",
        "colab_type": "text"
      },
      "source": [
        "性別の人数と割合"
      ]
    },
    {
      "cell_type": "code",
      "metadata": {
        "id": "s6HZUehpvCQu",
        "colab_type": "code",
        "outputId": "846118e5-03e3-49cc-cc24-61d06c2669bd",
        "colab": {
          "base_uri": "https://localhost:8080/",
          "height": 142
        }
      },
      "source": [
        "gender_cnt = df[\"性別\"].value_counts()\n",
        "gender_ratio = df[\"性別\"].value_counts(normalize=True).apply(f)\n",
        " \n",
        "gender_table = pd.concat([gender_cnt, gender_ratio],  axis=1)\n",
        "gender_table.columns= [\"人数\",\"割合\"]\n",
        "gender_table"
      ],
      "execution_count": 0,
      "outputs": [
        {
          "output_type": "execute_result",
          "data": {
            "text/html": [
              "<div>\n",
              "<style scoped>\n",
              "    .dataframe tbody tr th:only-of-type {\n",
              "        vertical-align: middle;\n",
              "    }\n",
              "\n",
              "    .dataframe tbody tr th {\n",
              "        vertical-align: top;\n",
              "    }\n",
              "\n",
              "    .dataframe thead th {\n",
              "        text-align: right;\n",
              "    }\n",
              "</style>\n",
              "<table border=\"1\" class=\"dataframe\">\n",
              "  <thead>\n",
              "    <tr style=\"text-align: right;\">\n",
              "      <th></th>\n",
              "      <th>人数</th>\n",
              "      <th>割合</th>\n",
              "    </tr>\n",
              "  </thead>\n",
              "  <tbody>\n",
              "    <tr>\n",
              "      <th>男性</th>\n",
              "      <td>1111</td>\n",
              "      <td>58.23%</td>\n",
              "    </tr>\n",
              "    <tr>\n",
              "      <th>女性</th>\n",
              "      <td>792</td>\n",
              "      <td>41.51%</td>\n",
              "    </tr>\n",
              "    <tr>\n",
              "      <th>非公表</th>\n",
              "      <td>5</td>\n",
              "      <td>0.26%</td>\n",
              "    </tr>\n",
              "  </tbody>\n",
              "</table>\n",
              "</div>"
            ],
            "text/plain": [
              "       人数      割合\n",
              "男性   1111  58.23%\n",
              "女性    792  41.51%\n",
              "非公表     5   0.26%"
            ]
          },
          "metadata": {
            "tags": []
          },
          "execution_count": 8
        }
      ]
    },
    {
      "cell_type": "markdown",
      "metadata": {
        "id": "8VhWXO1t6Xa8",
        "colab_type": "text"
      },
      "source": [
        "性別による死亡率の違い"
      ]
    },
    {
      "cell_type": "code",
      "metadata": {
        "id": "EDf4VZLn5E0e",
        "colab_type": "code",
        "outputId": "50abaa07-71de-423b-f8fa-609f97ba4858",
        "colab": {
          "base_uri": "https://localhost:8080/",
          "height": 173
        }
      },
      "source": [
        "df[\"ステータス\"] = df[\"ステータス\"].replace({'罹患中': '生存', \"回復\": '生存', 2: '死亡'})\n",
        "ct = pd.crosstab(df[\"性別\"],df[\"ステータス\"])\n",
        "ct"
      ],
      "execution_count": 0,
      "outputs": [
        {
          "output_type": "execute_result",
          "data": {
            "text/html": [
              "<div>\n",
              "<style scoped>\n",
              "    .dataframe tbody tr th:only-of-type {\n",
              "        vertical-align: middle;\n",
              "    }\n",
              "\n",
              "    .dataframe tbody tr th {\n",
              "        vertical-align: top;\n",
              "    }\n",
              "\n",
              "    .dataframe thead th {\n",
              "        text-align: right;\n",
              "    }\n",
              "</style>\n",
              "<table border=\"1\" class=\"dataframe\">\n",
              "  <thead>\n",
              "    <tr style=\"text-align: right;\">\n",
              "      <th>ステータス</th>\n",
              "      <th>死亡</th>\n",
              "      <th>生存</th>\n",
              "    </tr>\n",
              "    <tr>\n",
              "      <th>性別</th>\n",
              "      <th></th>\n",
              "      <th></th>\n",
              "    </tr>\n",
              "  </thead>\n",
              "  <tbody>\n",
              "    <tr>\n",
              "      <th>女性</th>\n",
              "      <td>6</td>\n",
              "      <td>786</td>\n",
              "    </tr>\n",
              "    <tr>\n",
              "      <th>男性</th>\n",
              "      <td>17</td>\n",
              "      <td>1094</td>\n",
              "    </tr>\n",
              "    <tr>\n",
              "      <th>非公表</th>\n",
              "      <td>1</td>\n",
              "      <td>4</td>\n",
              "    </tr>\n",
              "  </tbody>\n",
              "</table>\n",
              "</div>"
            ],
            "text/plain": [
              "ステータス  死亡    生存\n",
              "性別             \n",
              "女性      6   786\n",
              "男性     17  1094\n",
              "非公表     1     4"
            ]
          },
          "metadata": {
            "tags": []
          },
          "execution_count": 9
        }
      ]
    },
    {
      "cell_type": "code",
      "metadata": {
        "id": "p_RIftAU6emZ",
        "colab_type": "code",
        "outputId": "7566d5b8-d8e1-4697-d440-2312178d22b9",
        "colab": {
          "base_uri": "https://localhost:8080/",
          "height": 34
        }
      },
      "source": [
        "print(\"死亡における男性の割合：{:.0%}\".format(ct.loc[\"男性\",\"死亡\"]/ct.loc[:,\"死亡\"].sum()))"
      ],
      "execution_count": 0,
      "outputs": [
        {
          "output_type": "stream",
          "text": [
            "死亡における男性の割合：71%\n"
          ],
          "name": "stdout"
        }
      ]
    },
    {
      "cell_type": "markdown",
      "metadata": {
        "id": "Gr_1Zzzi6g2o",
        "colab_type": "text"
      },
      "source": [
        "p値の確認"
      ]
    },
    {
      "cell_type": "code",
      "metadata": {
        "id": "KQl_66t35M5e",
        "colab_type": "code",
        "outputId": "25b63ca9-af03-4fbb-d1c9-9a3d66961004",
        "colab": {
          "base_uri": "https://localhost:8080/",
          "height": 34
        }
      },
      "source": [
        "# Fisher's exact test\n",
        "import scipy.stats as st\n",
        "_, p = st.fisher_exact(ct[0:2])\n",
        "print(f'p値 = {p :.3f}')"
      ],
      "execution_count": 0,
      "outputs": [
        {
          "output_type": "stream",
          "text": [
            "p値 = 0.142\n"
          ],
          "name": "stdout"
        }
      ]
    },
    {
      "cell_type": "markdown",
      "metadata": {
        "id": "gcMbKXNRXRMG",
        "colab_type": "text"
      },
      "source": [
        "# References"
      ]
    },
    {
      "cell_type": "code",
      "metadata": {
        "id": "chzQXOvwgjrE",
        "colab_type": "code",
        "colab": {}
      },
      "source": [
        ""
      ],
      "execution_count": 0,
      "outputs": []
    }
  ]
}